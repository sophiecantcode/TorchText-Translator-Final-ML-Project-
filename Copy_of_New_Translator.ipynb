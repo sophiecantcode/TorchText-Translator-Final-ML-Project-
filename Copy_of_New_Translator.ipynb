{
  "nbformat": 4,
  "nbformat_minor": 0,
  "metadata": {
    "colab": {
      "name": "Copy of New Translator.ipynb",
      "provenance": [],
      "collapsed_sections": [],
      "include_colab_link": true
    },
    "kernelspec": {
      "name": "python3",
      "display_name": "Python 3"
    },
    "accelerator": "GPU"
  },
  "cells": [
    {
      "cell_type": "markdown",
      "metadata": {
        "id": "view-in-github",
        "colab_type": "text"
      },
      "source": [
        "<a href=\"https://colab.research.google.com/github/supersophieminikittybabycakes/TorchText-Translator-Final-ML-Project-/blob/master/Copy_of_New_Translator.ipynb\" target=\"_parent\"><img src=\"https://colab.research.google.com/assets/colab-badge.svg\" alt=\"Open In Colab\"/></a>"
      ]
    },
    {
      "cell_type": "markdown",
      "metadata": {
        "id": "4a6PKIJC404Q",
        "colab_type": "text"
      },
      "source": [
        "Copied from this source:\n",
        "https://pytorch.org/tutorials/beginner/torchtext_translation_tutorial.html and Sophie's tutorial."
      ]
    },
    {
      "cell_type": "code",
      "metadata": {
        "id": "q87J3zEWtDGb",
        "colab_type": "code",
        "colab": {}
      },
      "source": [
        "import random\n",
        "from typing import Tuple\n",
        "\n",
        "import torch\n",
        "import torch.nn as nn\n",
        "import torch.optim as optim\n",
        "import torch.nn.functional as F\n",
        "from torch import Tensor\n",
        "\n",
        "# Encoder is a decoding neural network class that avoids information compression (that other modules have)\n",
        "# when processing by allowing the decoder to examine the entire source sentence at each decoding step by using attention.\n",
        "# Attention calculates an attention vector, that is the length of the source sentence. \n",
        "# The attention vector has the property that each element is between 0 and 1, and the entire vector sums to 1. \n",
        "# Encoder then calculates a weighted sum of our source sentence hidden states to get a weighted source vector.\n",
        "class Encoder(nn.Module):\n",
        "    def __init__(self,\n",
        "                 input_dim: int,\n",
        "                 emb_dim: int,\n",
        "                 enc_hid_dim: int,\n",
        "                 dec_hid_dim: int,\n",
        "                 dropout: float):\n",
        "        super().__init__()\n",
        "\n",
        "        self.input_dim = input_dim\n",
        "        self.emb_dim = emb_dim\n",
        "        self.enc_hid_dim = enc_hid_dim\n",
        "        self.dec_hid_dim = dec_hid_dim\n",
        "        self.dropout = dropout\n",
        "\n",
        "        self.embedding = nn.Embedding(input_dim, emb_dim)\n",
        "\n",
        "        self.rnn = nn.GRU(emb_dim, enc_hid_dim, bidirectional = True)\n",
        "\n",
        "        self.fc = nn.Linear(enc_hid_dim * 2, dec_hid_dim)\n",
        "\n",
        "        self.dropout = nn.Dropout(dropout)\n",
        "\n",
        "    def forward(self,\n",
        "                src: Tensor) -> Tuple[Tensor]:\n",
        "\n",
        "        embedded = self.dropout(self.embedding(src))\n",
        "\n",
        "        outputs, hidden = self.rnn(embedded)\n",
        "\n",
        "        hidden = torch.tanh(self.fc(torch.cat((hidden[-2,:,:], hidden[-1,:,:]), dim = 1)))\n",
        "\n",
        "        return outputs, hidden\n",
        "\n",
        "# Attention calculates an attention vector, that is the length of the source sentence. \n",
        "# The attention vector has the property that each element is between 0 and 1, and the entire vector sums to 1. \n",
        "# Encoder then calculates a weighted sum of our source sentence hidden states to get a weighted source vector.\n",
        "\n",
        "class Attention(nn.Module):\n",
        "    def __init__(self,\n",
        "                 enc_hid_dim: int,\n",
        "                 dec_hid_dim: int,\n",
        "                 attn_dim: int):\n",
        "        super().__init__()\n",
        "\n",
        "        self.enc_hid_dim = enc_hid_dim\n",
        "        self.dec_hid_dim = dec_hid_dim\n",
        "\n",
        "        self.attn_in = (enc_hid_dim * 2) + dec_hid_dim\n",
        "\n",
        "        self.attn = nn.Linear(self.attn_in, attn_dim)\n",
        "\n",
        "    def forward(self,\n",
        "                decoder_hidden: Tensor,\n",
        "                encoder_outputs: Tensor) -> Tensor:\n",
        "\n",
        "        src_len = encoder_outputs.shape[0]\n",
        "\n",
        "        repeated_decoder_hidden = decoder_hidden.unsqueeze(1).repeat(1, src_len, 1)\n",
        "\n",
        "        encoder_outputs = encoder_outputs.permute(1, 0, 2)\n",
        "\n",
        "        energy = torch.tanh(self.attn(torch.cat((\n",
        "            repeated_decoder_hidden,\n",
        "            encoder_outputs),\n",
        "            dim = 2)))\n",
        "\n",
        "        attention = torch.sum(energy, dim=2)\n",
        "\n",
        "        return F.softmax(attention, dim=1)\n",
        "\n",
        "# Model has the architecture of a encoding network, decoding network, and attention network.\n",
        "# Essentially, decoding is reading, encoding is comprehending and connecting to the other language\n",
        "# Encoder uses the attention network\n",
        "\n",
        "class Decoder(nn.Module):\n",
        "    def __init__(self,\n",
        "                 output_dim: int,\n",
        "                 emb_dim: int,\n",
        "                 enc_hid_dim: int,\n",
        "                 dec_hid_dim: int,\n",
        "                 dropout: int,\n",
        "                 attention: nn.Module):\n",
        "        super().__init__()\n",
        "\n",
        "        self.emb_dim = emb_dim\n",
        "        self.enc_hid_dim = enc_hid_dim\n",
        "        self.dec_hid_dim = dec_hid_dim\n",
        "        self.output_dim = output_dim\n",
        "        self.dropout = dropout\n",
        "        self.attention = attention\n",
        "\n",
        "        self.embedding = nn.Embedding(output_dim, emb_dim)\n",
        "\n",
        "        self.rnn = nn.GRU((enc_hid_dim * 2) + emb_dim, dec_hid_dim)\n",
        "\n",
        "        self.out = nn.Linear(self.attention.attn_in + emb_dim, output_dim)\n",
        "\n",
        "        self.dropout = nn.Dropout(dropout)\n",
        "\n",
        "\n",
        "    def _weighted_encoder_rep(self,\n",
        "                              decoder_hidden: Tensor,\n",
        "                              encoder_outputs: Tensor) -> Tensor:\n",
        "\n",
        "        a = self.attention(decoder_hidden, encoder_outputs)\n",
        "\n",
        "        a = a.unsqueeze(1)\n",
        "\n",
        "        encoder_outputs = encoder_outputs.permute(1, 0, 2)\n",
        "\n",
        "        weighted_encoder_rep = torch.bmm(a, encoder_outputs)\n",
        "\n",
        "        weighted_encoder_rep = weighted_encoder_rep.permute(1, 0, 2)\n",
        "\n",
        "        return weighted_encoder_rep\n",
        "\n",
        "\n",
        "    def forward(self,\n",
        "                input: Tensor,\n",
        "                decoder_hidden: Tensor,\n",
        "                encoder_outputs: Tensor) -> Tuple[Tensor]:\n",
        "\n",
        "        input = input.unsqueeze(0)\n",
        "\n",
        "        embedded = self.dropout(self.embedding(input))\n",
        "\n",
        "        weighted_encoder_rep = self._weighted_encoder_rep(decoder_hidden,\n",
        "                                                          encoder_outputs)\n",
        "\n",
        "        rnn_input = torch.cat((embedded, weighted_encoder_rep), dim = 2)\n",
        "\n",
        "        output, decoder_hidden = self.rnn(rnn_input, decoder_hidden.unsqueeze(0))\n",
        "\n",
        "        embedded = embedded.squeeze(0)\n",
        "        output = output.squeeze(0)\n",
        "        weighted_encoder_rep = weighted_encoder_rep.squeeze(0)\n",
        "\n",
        "        output = self.out(torch.cat((output,\n",
        "                                     weighted_encoder_rep,\n",
        "                                     embedded), dim = 1))\n",
        "\n",
        "        return output, decoder_hidden.squeeze(0)\n",
        "\n",
        "# A Sequence to Sequence network consisting of two recurring neural networks: the encoder and decoder. \n",
        "# The encoder reads an input sequence and outputs a single vector, and the \n",
        "# decoder reads that vector to produce an output sequence\n",
        "\n",
        "class Seq2Seq(nn.Module):\n",
        "    def __init__(self,\n",
        "                 encoder: nn.Module,\n",
        "                 decoder: nn.Module,\n",
        "                 device: torch.device):\n",
        "        super().__init__()\n",
        "\n",
        "        self.encoder = encoder\n",
        "        self.decoder = decoder\n",
        "        self.device = device\n",
        "\n",
        "    def forward(self,\n",
        "                src: Tensor,\n",
        "                trg: Tensor,\n",
        "                teacher_forcing_ratio: float = 0.5) -> Tensor:\n",
        "\n",
        "        batch_size = src.shape[1]\n",
        "        max_len = trg.shape[0]\n",
        "        trg_vocab_size = self.decoder.output_dim\n",
        "\n",
        "#        print('max_len:',max_len)\n",
        "\n",
        "        outputs = torch.zeros(max_len, batch_size, trg_vocab_size).to(self.device)\n",
        "\n",
        "        encoder_outputs, hidden = self.encoder(src)\n",
        "\n",
        "        # first input to the decoder is the <sos> token\n",
        "        output = trg[0,:]\n",
        "\n",
        "        for t in range(1, max_len):\n",
        "            output, hidden = self.decoder(output, hidden, encoder_outputs)\n",
        "            outputs[t] = output\n",
        "            teacher_force = random.random() < teacher_forcing_ratio\n",
        "            top1 = output.max(1)[1]\n",
        "            output = (trg[t] if teacher_force else top1)\n",
        "\n",
        "        return outputs\n"
      ],
      "execution_count": 0,
      "outputs": []
    },
    {
      "cell_type": "code",
      "metadata": {
        "id": "J21oThYy2rmx",
        "colab_type": "code",
        "colab": {}
      },
      "source": [
        "from torchtext.datasets import Multi30k\n",
        "from torchtext.data import Field, BucketIterator\n",
        "\n",
        "# building the fields for German (source language) and English (target). \n",
        "# also holds info about how the datatypes should be tokenized and converted to a tensor.\n",
        "\n",
        "SRC = Field(tokenize = \"spacy\",\n",
        "            # tokenizer_language=\"de\",\n",
        "            init_token = '<sos>',\n",
        "            eos_token = '<eos>',\n",
        "            lower = True)\n",
        "\n",
        "TRG = Field(tokenize = \"spacy\",\n",
        "            # tokenizer_language=\"en\",\n",
        "            init_token = '<sos>',\n",
        "            eos_token = '<eos>',\n",
        "            lower = True)\n"
      ],
      "execution_count": 0,
      "outputs": []
    },
    {
      "cell_type": "code",
      "metadata": {
        "id": "2vh50Zx0hHLV",
        "colab_type": "code",
        "outputId": "1f5a8802-0e6b-422b-a76b-346af5e7c91d",
        "colab": {
          "base_uri": "https://localhost:8080/",
          "height": 121
        }
      },
      "source": [
        "#split into test, train with German and English extensions, SRC and TRG respectively\n",
        "\n",
        "train_data, valid_data, test_data = Multi30k.splits(exts = ('.de', '.en'),\n",
        "                                                    fields = (SRC, TRG))"
      ],
      "execution_count": 0,
      "outputs": [
        {
          "output_type": "stream",
          "text": [
            "downloading training.tar.gz\n"
          ],
          "name": "stdout"
        },
        {
          "output_type": "stream",
          "text": [
            "training.tar.gz: 100%|██████████| 1.21M/1.21M [00:00<00:00, 4.10MB/s]\n",
            "validation.tar.gz: 100%|██████████| 46.3k/46.3k [00:00<00:00, 1.26MB/s]"
          ],
          "name": "stderr"
        },
        {
          "output_type": "stream",
          "text": [
            "downloading validation.tar.gz\n",
            "downloading mmt_task1_test2016.tar.gz\n"
          ],
          "name": "stdout"
        },
        {
          "output_type": "stream",
          "text": [
            "\n",
            "mmt_task1_test2016.tar.gz: 100%|██████████| 66.2k/66.2k [00:00<00:00, 1.29MB/s]\n"
          ],
          "name": "stderr"
        }
      ]
    },
    {
      "cell_type": "code",
      "metadata": {
        "id": "mZPNYXh3hMrQ",
        "colab_type": "code",
        "colab": {}
      },
      "source": [
        "#constructing the Vocab object for the Fields i.e. assembling all the possible values/words for both languages\n",
        "\n",
        "SRC.build_vocab(train_data, min_freq = 2)\n",
        "TRG.build_vocab(train_data, min_freq = 2)"
      ],
      "execution_count": 0,
      "outputs": []
    },
    {
      "cell_type": "code",
      "metadata": {
        "id": "dZAYT0cShYBE",
        "colab_type": "code",
        "colab": {}
      },
      "source": [
        "device = torch.device('cuda' if torch.cuda.is_available() else 'cpu')\n",
        "\n",
        "BATCH_SIZE = 128\n",
        "\n",
        "#splits the data into batches of 128 sentences according to size\n",
        "\n",
        "train_iterator, valid_iterator, test_iterator = BucketIterator.splits(\n",
        "    (train_data, valid_data, test_data),\n",
        "    batch_size = BATCH_SIZE,\n",
        "    device = device)"
      ],
      "execution_count": 0,
      "outputs": []
    },
    {
      "cell_type": "code",
      "metadata": {
        "id": "fk28lwshhaEa",
        "colab_type": "code",
        "outputId": "95a3a2ed-7799-4351-f234-78fbbedae536",
        "colab": {
          "base_uri": "https://localhost:8080/",
          "height": 35
        }
      },
      "source": [
        "INPUT_DIM = len(SRC.vocab)\n",
        "OUTPUT_DIM = len(TRG.vocab)\n",
        "# ENC_EMB_DIM = 256\n",
        "# DEC_EMB_DIM = 256\n",
        "# ENC_HID_DIM = 512\n",
        "# DEC_HID_DIM = 512\n",
        "# ATTN_DIM = 64\n",
        "# ENC_DROPOUT = 0.5\n",
        "# DEC_DROPOUT = 0.5\n",
        "#inputting \n",
        "ENC_EMB_DIM = 32\n",
        "DEC_EMB_DIM = 32\n",
        "ENC_HID_DIM = 64\n",
        "DEC_HID_DIM = 64\n",
        "ATTN_DIM = 8\n",
        "ENC_DROPOUT = 0.5\n",
        "DEC_DROPOUT = 0.5\n",
        "\n",
        "enc = Encoder(INPUT_DIM, ENC_EMB_DIM, ENC_HID_DIM, DEC_HID_DIM, ENC_DROPOUT)\n",
        "\n",
        "attn = Attention(ENC_HID_DIM, DEC_HID_DIM, ATTN_DIM)\n",
        "\n",
        "dec = Decoder(OUTPUT_DIM, DEC_EMB_DIM, ENC_HID_DIM, DEC_HID_DIM, DEC_DROPOUT, attn)\n",
        "\n",
        "model = Seq2Seq(enc, dec, device).to(device)\n",
        "\n",
        "\n",
        "def init_weights(m: nn.Module):\n",
        "    for name, param in m.named_parameters():\n",
        "        if 'weight' in name:\n",
        "            nn.init.normal_(param.data, mean=0, std=0.01)\n",
        "        else:\n",
        "            nn.init.constant_(param.data, 0)\n",
        "\n",
        "\n",
        "model.apply(init_weights)\n",
        "\n",
        "optimizer = optim.Adam(model.parameters())\n",
        "\n",
        "\n",
        "def count_parameters(model: nn.Module):\n",
        "    return sum(p.numel() for p in model.parameters() if p.requires_grad)\n",
        "\n",
        "\n",
        "print(f'The model has {count_parameters(model):,} trainable parameters')"
      ],
      "execution_count": 0,
      "outputs": [
        {
          "output_type": "stream",
          "text": [
            "The model has 1,857,261 trainable parameters\n"
          ],
          "name": "stdout"
        }
      ]
    },
    {
      "cell_type": "code",
      "metadata": {
        "id": "79GdEY2ghfss",
        "colab_type": "code",
        "colab": {}
      },
      "source": [
        "PAD_IDX = TRG.vocab.stoi['<pad>']\n",
        "# print(PAD_IDX)\n",
        "\n",
        "criterion = nn.CrossEntropyLoss(ignore_index=PAD_IDX)"
      ],
      "execution_count": 0,
      "outputs": []
    },
    {
      "cell_type": "markdown",
      "metadata": {
        "id": "yHbmjpcK5ZDf",
        "colab_type": "text"
      },
      "source": [
        "*** Start reading new stuff here***\n",
        "To speed up process, I am only running one epoch currently. Change it back to at least 10 when you are done."
      ]
    },
    {
      "cell_type": "code",
      "metadata": {
        "id": "wzBhkzZb5YO3",
        "colab_type": "code",
        "colab": {}
      },
      "source": [
        "import math\n",
        "import time\n",
        "\n",
        "# function for training model\n",
        "def train(model: nn.Module,\n",
        "          iterator: BucketIterator,\n",
        "          optimizer: optim.Optimizer,\n",
        "          criterion: nn.Module,\n",
        "          clip: float):\n",
        "\n",
        "    model.train()\n",
        "\n",
        "    epoch_loss = 0\n",
        "\n",
        "    for _, batch in enumerate(iterator):\n",
        "\n",
        "        src = batch.src\n",
        "        trg = batch.trg\n",
        "\n",
        "        optimizer.zero_grad()\n",
        "\n",
        "        output = model(src, trg)\n",
        "\n",
        "        output = output[1:].view(-1, output.shape[-1])\n",
        "        trg = trg[1:].view(-1)\n",
        "\n",
        "        loss = criterion(output, trg)\n",
        "\n",
        "        loss.backward()\n",
        "\n",
        "        torch.nn.utils.clip_grad_norm_(model.parameters(), clip)\n",
        "\n",
        "        optimizer.step()\n",
        "\n",
        "        epoch_loss += loss.item()\n",
        "\n",
        "    return epoch_loss / len(iterator)\n",
        "\n",
        "# function for finding the cumulative loss while looping\n",
        "def evaluate(model: nn.Module,\n",
        "             iterator: BucketIterator,\n",
        "             criterion: nn.Module):\n",
        "\n",
        "    model.eval()\n",
        "\n",
        "    epoch_loss = 0\n",
        "\n",
        "    with torch.no_grad():\n",
        "\n",
        "        for _, batch in enumerate(iterator):\n",
        "\n",
        "            src = batch.src\n",
        "            trg = batch.trg\n",
        "\n",
        "            output = model(src, trg, 0) #turn off teacher forcing\n",
        "\n",
        "            output = output[1:].view(-1, output.shape[-1])\n",
        "            trg = trg[1:].view(-1)\n",
        "\n",
        "            loss = criterion(output, trg)\n",
        "\n",
        "            epoch_loss += loss.item()\n",
        "\n",
        "    return epoch_loss / len(iterator)\n",
        "\n",
        "#figuring out how long each epoch takes\n",
        "def epoch_time(start_time: int,\n",
        "               end_time: int):\n",
        "    elapsed_time = end_time - start_time\n",
        "    elapsed_mins = int(elapsed_time / 60)\n",
        "    elapsed_secs = int(elapsed_time - (elapsed_mins * 60))\n",
        "    return elapsed_mins, elapsed_secs\n"
      ],
      "execution_count": 0,
      "outputs": []
    },
    {
      "cell_type": "code",
      "metadata": {
        "id": "nfyq79y0GkVa",
        "colab_type": "code",
        "outputId": "a2db7dfc-2634-40a7-eb86-f0ea6ad49803",
        "colab": {
          "base_uri": "https://localhost:8080/",
          "height": 1000
        }
      },
      "source": [
        "N_EPOCHS = 25\n",
        "CLIP = 1\n",
        "\n",
        "best_valid_loss = float('inf')\n",
        "\n",
        "#running the model, evaluating and printing losses \n",
        "for epoch in range(N_EPOCHS):\n",
        "\n",
        "    start_time = time.time()\n",
        "\n",
        "    train_loss = train(model, train_iterator, optimizer, criterion, CLIP)\n",
        "    valid_loss = evaluate(model, valid_iterator, criterion)\n",
        "\n",
        "    end_time = time.time()\n",
        "\n",
        "    epoch_mins, epoch_secs = epoch_time(start_time, end_time)\n",
        "\n",
        "    print(f'Epoch: {epoch+1:02} | Time: {epoch_mins}m {epoch_secs}s')\n",
        "    print(f'\\tTrain Loss: {train_loss:.3f} | Train PPL: {math.exp(train_loss):7.3f}')\n",
        "    print(f'\\t Val. Loss: {valid_loss:.3f} |  Val. PPL: {math.exp(valid_loss):7.3f}')\n",
        "\n",
        "test_loss = evaluate(model, test_iterator, criterion)\n",
        "\n",
        "print(f'| Test Loss: {test_loss:.3f} | Test PPL: {math.exp(test_loss):7.3f} |')"
      ],
      "execution_count": 0,
      "outputs": [
        {
          "output_type": "stream",
          "text": [
            "Epoch: 01 | Time: 0m 28s\n",
            "\tTrain Loss: 5.680 | Train PPL: 292.828\n",
            "\t Val. Loss: 5.254 |  Val. PPL: 191.319\n",
            "Epoch: 02 | Time: 0m 28s\n",
            "\tTrain Loss: 5.021 | Train PPL: 151.525\n",
            "\t Val. Loss: 5.082 |  Val. PPL: 161.035\n",
            "Epoch: 03 | Time: 0m 28s\n",
            "\tTrain Loss: 4.718 | Train PPL: 111.971\n",
            "\t Val. Loss: 4.978 |  Val. PPL: 145.195\n",
            "Epoch: 04 | Time: 0m 28s\n",
            "\tTrain Loss: 4.537 | Train PPL:  93.449\n",
            "\t Val. Loss: 4.853 |  Val. PPL: 128.090\n",
            "Epoch: 05 | Time: 0m 28s\n",
            "\tTrain Loss: 4.398 | Train PPL:  81.301\n",
            "\t Val. Loss: 4.819 |  Val. PPL: 123.890\n",
            "Epoch: 06 | Time: 0m 28s\n",
            "\tTrain Loss: 4.314 | Train PPL:  74.742\n",
            "\t Val. Loss: 4.750 |  Val. PPL: 115.618\n",
            "Epoch: 07 | Time: 0m 28s\n",
            "\tTrain Loss: 4.222 | Train PPL:  68.142\n",
            "\t Val. Loss: 4.653 |  Val. PPL: 104.918\n",
            "Epoch: 08 | Time: 0m 28s\n",
            "\tTrain Loss: 4.128 | Train PPL:  62.033\n",
            "\t Val. Loss: 4.538 |  Val. PPL:  93.543\n",
            "Epoch: 09 | Time: 0m 28s\n",
            "\tTrain Loss: 4.015 | Train PPL:  55.423\n",
            "\t Val. Loss: 4.472 |  Val. PPL:  87.544\n",
            "Epoch: 10 | Time: 0m 28s\n",
            "\tTrain Loss: 3.915 | Train PPL:  50.159\n",
            "\t Val. Loss: 4.369 |  Val. PPL:  78.954\n",
            "Epoch: 11 | Time: 0m 28s\n",
            "\tTrain Loss: 3.834 | Train PPL:  46.241\n",
            "\t Val. Loss: 4.356 |  Val. PPL:  77.979\n",
            "Epoch: 12 | Time: 0m 28s\n",
            "\tTrain Loss: 3.743 | Train PPL:  42.242\n",
            "\t Val. Loss: 4.237 |  Val. PPL:  69.220\n",
            "Epoch: 13 | Time: 0m 28s\n",
            "\tTrain Loss: 3.655 | Train PPL:  38.678\n",
            "\t Val. Loss: 4.079 |  Val. PPL:  59.064\n",
            "Epoch: 14 | Time: 0m 28s\n",
            "\tTrain Loss: 3.569 | Train PPL:  35.493\n",
            "\t Val. Loss: 3.994 |  Val. PPL:  54.272\n",
            "Epoch: 15 | Time: 0m 28s\n",
            "\tTrain Loss: 3.484 | Train PPL:  32.589\n",
            "\t Val. Loss: 3.927 |  Val. PPL:  50.745\n",
            "Epoch: 16 | Time: 0m 28s\n",
            "\tTrain Loss: 3.415 | Train PPL:  30.431\n",
            "\t Val. Loss: 3.855 |  Val. PPL:  47.228\n",
            "Epoch: 17 | Time: 0m 28s\n",
            "\tTrain Loss: 3.361 | Train PPL:  28.818\n",
            "\t Val. Loss: 3.746 |  Val. PPL:  42.332\n",
            "Epoch: 18 | Time: 0m 28s\n",
            "\tTrain Loss: 3.288 | Train PPL:  26.789\n",
            "\t Val. Loss: 3.711 |  Val. PPL:  40.897\n",
            "Epoch: 19 | Time: 0m 28s\n",
            "\tTrain Loss: 3.233 | Train PPL:  25.355\n",
            "\t Val. Loss: 3.706 |  Val. PPL:  40.704\n",
            "Epoch: 20 | Time: 0m 28s\n",
            "\tTrain Loss: 3.175 | Train PPL:  23.937\n",
            "\t Val. Loss: 3.631 |  Val. PPL:  37.760\n",
            "Epoch: 21 | Time: 0m 28s\n",
            "\tTrain Loss: 3.129 | Train PPL:  22.841\n",
            "\t Val. Loss: 3.587 |  Val. PPL:  36.125\n",
            "Epoch: 22 | Time: 0m 28s\n",
            "\tTrain Loss: 3.080 | Train PPL:  21.751\n",
            "\t Val. Loss: 3.572 |  Val. PPL:  35.595\n",
            "Epoch: 23 | Time: 0m 28s\n",
            "\tTrain Loss: 3.034 | Train PPL:  20.783\n",
            "\t Val. Loss: 3.559 |  Val. PPL:  35.123\n",
            "Epoch: 24 | Time: 0m 28s\n",
            "\tTrain Loss: 2.995 | Train PPL:  19.989\n",
            "\t Val. Loss: 3.496 |  Val. PPL:  32.992\n",
            "Epoch: 25 | Time: 0m 28s\n",
            "\tTrain Loss: 2.958 | Train PPL:  19.264\n",
            "\t Val. Loss: 3.480 |  Val. PPL:  32.454\n",
            "| Test Loss: 3.500 | Test PPL:  33.101 |\n"
          ],
          "name": "stdout"
        }
      ]
    },
    {
      "cell_type": "markdown",
      "metadata": {
        "id": "gRQN8UgT7xG9",
        "colab_type": "text"
      },
      "source": [
        "How do we convert a tensor back to a sentence? Let's first define this helper function."
      ]
    },
    {
      "cell_type": "code",
      "metadata": {
        "id": "fU_gAG5MozFL",
        "colab_type": "code",
        "colab": {}
      },
      "source": [
        "#Defining function to convert tensor into sentence\n",
        "import numpy as np\n",
        "def word_ids_to_sentence(id_tensor, vocab, join=None):\n",
        "    \"\"\"Converts a sequence of word ids to a sentence\"\"\"\n",
        "    # print('id_tensor', id_tensor.shape, id_tensor)\n",
        "    if isinstance(id_tensor, torch.LongTensor):\n",
        "        ids = id_tensor.transpose(0, 1).contiguous().view(-1)\n",
        "    elif isinstance(id_tensor, np.ndarray):\n",
        "        ids = id_tensor.transpose().reshape(-1)\n",
        "    # print('ids', ids.shape, ids)\n",
        "    batch = [vocab.itos[ind] for ind in ids] # denumericalize\n",
        "    if join is None:\n",
        "        return batch\n",
        "    else:\n",
        "        return join.join(batch)\n"
      ],
      "execution_count": 0,
      "outputs": []
    },
    {
      "cell_type": "markdown",
      "metadata": {
        "id": "hQGKoaRzgbxh",
        "colab_type": "text"
      },
      "source": [
        "We can translate an English sentence to a vector and back to a sentence\n"
      ]
    },
    {
      "cell_type": "code",
      "metadata": {
        "id": "UU6HRbNZhEZi",
        "colab_type": "code",
        "outputId": "c5a43cb1-7101-4295-b533-69c02b2ab45e",
        "colab": {
          "base_uri": "https://localhost:8080/",
          "height": 52
        }
      },
      "source": [
        "#Translating English sentence into vector and \n",
        "# translating the vector back into English sentence\n",
        "print('original: ', 'a man in an orange hat staring at something.')\n",
        "train = Example.fromlist(\n",
        "    data=['a man in an orange hat staring at something.'], \n",
        "    fields=[('trg', TRG)])\n",
        "custom_train_data = Dataset([train], fields=[('trg', TRG)])\n",
        "train_iter = BucketIterator(\n",
        "    dataset=custom_train_data, batch_size=1)\n",
        "s = next(enumerate(train_iter))[1].trg.to(device)\n",
        "\n",
        "word_ids_to_sentence(s.cpu().data.numpy(), TRG.vocab, join=' ')"
      ],
      "execution_count": 0,
      "outputs": [
        {
          "output_type": "stream",
          "text": [
            "original:  a man in an orange hat staring at something.\n"
          ],
          "name": "stdout"
        },
        {
          "output_type": "execute_result",
          "data": {
            "text/plain": [
              "'<sos> a man in an orange hat staring at something . <eos>'"
            ]
          },
          "metadata": {
            "tags": []
          },
          "execution_count": 126
        }
      ]
    },
    {
      "cell_type": "code",
      "metadata": {
        "id": "tz5gqbi3jj2j",
        "colab_type": "code",
        "colab": {}
      },
      "source": [
        ""
      ],
      "execution_count": 0,
      "outputs": []
    },
    {
      "cell_type": "markdown",
      "metadata": {
        "id": "MjR_1B10hXb0",
        "colab_type": "text"
      },
      "source": [
        "And the same with German"
      ]
    },
    {
      "cell_type": "code",
      "metadata": {
        "id": "FxyLgaoRhUZt",
        "colab_type": "code",
        "outputId": "711b5d96-e981-4199-f503-32cf47a0f6ed",
        "colab": {
          "base_uri": "https://localhost:8080/",
          "height": 52
        }
      },
      "source": [
        "# Translating German sentence into vector and \n",
        "# translating the vector back into German sentence\n",
        "print('original', 'ein Mann in einem orangefarbenen Hut mit einem Blick auf etwas.')\n",
        "train = Example.fromlist(\n",
        "    data=['ein Mann in einem orangefarbenen Hut mit einem Blick auf etwas.'], \n",
        "    fields=[('src', SRC)])\n",
        "custom_train_data = Dataset([train], fields=[('src', SRC)])\n",
        "train_iter = BucketIterator(\n",
        "    dataset=custom_train_data, batch_size=1)\n",
        "s = next(enumerate(train_iter))[1].src.to(device)\n",
        "\n",
        "word_ids_to_sentence(s.cpu().data.numpy(), SRC.vocab, join=' ')"
      ],
      "execution_count": 0,
      "outputs": [
        {
          "output_type": "stream",
          "text": [
            "original ein Mann in einem orangefarbenen Hut mit einem Blick auf etwas.\n"
          ],
          "name": "stdout"
        },
        {
          "output_type": "execute_result",
          "data": {
            "text/plain": [
              "'<sos> ein mann in einem orangefarbenen hut mit einem blick auf etwas . <eos>'"
            ]
          },
          "metadata": {
            "tags": []
          },
          "execution_count": 127
        }
      ]
    },
    {
      "cell_type": "code",
      "metadata": {
        "id": "6Fcr75xX51Jt",
        "colab_type": "code",
        "colab": {}
      },
      "source": [
        "def check_model(src_tensor: Tensor,\n",
        "                trg_tensor: Tensor):\n",
        "  \n",
        "    # print('src tensor:',src_tensor)\n",
        "    # print('trg tensor:',trg_tensor)\n",
        "\n",
        "    # put the two tensors through the model\n",
        "    res_tensor = model(src_tensor, trg_tensor)\n",
        "\n",
        "    # print('res tensor:',res_tensor)\n",
        "\n",
        "\n",
        "    src_arrs = src_tensor.cpu().data.numpy()\n",
        "    print('src:',word_ids_to_sentence(src_arrs, SRC.vocab, join=' '))\n",
        "\n",
        "    trg_arrs = trg_tensor.cpu().data.numpy()\n",
        "    print('trg:',word_ids_to_sentence(trg_arrs, TRG.vocab, join=' '))\n",
        "\n",
        "    res_arrs = res_tensor.cpu().data.numpy()\n",
        "    res_arrs = np.argmax(res_arrs, axis=2)\n",
        "    print('res:', word_ids_to_sentence(res_arrs, TRG.vocab, join=' '))\n",
        "\n",
        "    # We were initally unable to succesfully translate from one language to another.\n",
        "    # We determined this error was because our target tensor was just a [0] vector.\n",
        "    # With a [0] target tensor, the model cannot change the source tensor input \n",
        "    # to the expected output target tensor because the two tensors are too disimilar in shape."
      ],
      "execution_count": 0,
      "outputs": []
    },
    {
      "cell_type": "markdown",
      "metadata": {
        "id": "Dv4gXt4ZlA3G",
        "colab_type": "text"
      },
      "source": [
        "The key issue that we fixed was the trg tensor. Instead of using a [0] tensor, we just needed a target tensor that was at least as big as the source tensor. Then, the model just fills in 0's/padding for the unused space in the translation. Using a target tensor of a batch works when using example sentences because the target tensor is already big enough.   "
      ]
    },
    {
      "cell_type": "code",
      "metadata": {
        "id": "zKfc4Ajkuq5Y",
        "colab_type": "code",
        "colab": {}
      },
      "source": [
        "# pulling up a sentence from the dataset\n",
        "batch=next(enumerate(train_iterator))[1]"
      ],
      "execution_count": 0,
      "outputs": []
    },
    {
      "cell_type": "code",
      "metadata": {
        "id": "-aoxcbWTvAiV",
        "colab_type": "code",
        "outputId": "b6992a0f-0652-4191-dd3c-7a000c31fddf",
        "colab": {
          "base_uri": "https://localhost:8080/",
          "height": 89
        }
      },
      "source": [
        "# getting the source and target attributes\n",
        "src_tensor = batch.src\n",
        "trg_tensor = batch.trg\n",
        "\n",
        "check_model(src_tensor, trg_tensor)"
      ],
      "execution_count": 0,
      "outputs": [
        {
          "output_type": "stream",
          "text": [
            "src: <sos> ein mann mit jeans , langärmeligem kapuzenpulli und rucksack geht durch eine wüste . <eos> <pad> <pad> <pad> <pad> <pad> <pad> <pad> <pad> <pad> <pad> <sos> ein roter schlepper legt gleich am hafen an . <eos> <pad> <pad> <pad> <pad> <pad> <pad> <pad> <pad> <pad> <pad> <pad> <pad> <pad> <pad> <pad> <sos> eine dunkelhäutige alte frau mit grauem haar hält sich an einer gelben blume fest . <eos> <pad> <pad> <pad> <pad> <pad> <pad> <pad> <pad> <pad> <sos> ein mädchen lächelt außerhalb eines ladens . <eos> <pad> <pad> <pad> <pad> <pad> <pad> <pad> <pad> <pad> <pad> <pad> <pad> <pad> <pad> <pad> <pad> <pad> <sos> eine lächelnde frau spielt geige vor einem türkisfarbenen hintergrund . <eos> <pad> <pad> <pad> <pad> <pad> <pad> <pad> <pad> <pad> <pad> <pad> <pad> <pad> <pad> <sos> menschen stehen am strand , einer davon unter einem grünen schirm . <eos> <pad> <pad> <pad> <pad> <pad> <pad> <pad> <pad> <pad> <pad> <pad> <pad> <sos> ein junge läuft vor wellen hinter ihm mit einem netz durch das wasser . <eos> <pad> <pad> <pad> <pad> <pad> <pad> <pad> <pad> <pad> <pad> <sos> ein mensch läuft mit einer gruppe von vögeln in einer stadt . <eos> <pad> <pad> <pad> <pad> <pad> <pad> <pad> <pad> <pad> <pad> <pad> <pad> <sos> ein mann versucht einen bunten gegenstand zu reparieren . <eos> <pad> <pad> <pad> <pad> <pad> <pad> <pad> <pad> <pad> <pad> <pad> <pad> <pad> <pad> <pad> <sos> fußballspieler befinden sich auf einem spielfeld und der ball geht ins tor . <eos> <pad> <pad> <pad> <pad> <pad> <pad> <pad> <pad> <pad> <pad> <pad> <sos> sechs <unk> bei einem sehr knappen fahrradrennen , alle in verschiedenfarbigen trikots . <eos> <pad> <pad> <pad> <pad> <pad> <pad> <pad> <pad> <pad> <pad> <pad> <sos> drei junge männer halten fäden . <eos> <pad> <pad> <pad> <pad> <pad> <pad> <pad> <pad> <pad> <pad> <pad> <pad> <pad> <pad> <pad> <pad> <pad> <pad> <sos> zwei mädchen machen karate . <eos> <pad> <pad> <pad> <pad> <pad> <pad> <pad> <pad> <pad> <pad> <pad> <pad> <pad> <pad> <pad> <pad> <pad> <pad> <pad> <sos> drei menschen sitzen an einem <unk> neben einem krokodil - <unk> . <eos> <pad> <pad> <pad> <pad> <pad> <pad> <pad> <pad> <pad> <pad> <pad> <pad> <sos> zwei leute kaufen in einem supermarkt ein , während über ihren köpfen <unk> flaggen zu sehen sind . <eos> <pad> <pad> <pad> <pad> <pad> <pad> <sos> kinder spielen ein spiel auf einem platz . <eos> <pad> <pad> <pad> <pad> <pad> <pad> <pad> <pad> <pad> <pad> <pad> <pad> <pad> <pad> <pad> <pad> <sos> eine gruppe von frauen steht vor einem blauen <unk> - <unk> - banner . <eos> <pad> <pad> <pad> <pad> <pad> <pad> <pad> <pad> <pad> <pad> <sos> eine gruppe von personen läuft auf schneebedeckten stufen . <eos> <pad> <pad> <pad> <pad> <pad> <pad> <pad> <pad> <pad> <pad> <pad> <pad> <pad> <pad> <pad> <sos> ein feuerwehrmann versucht , über <unk> zu klettern . <eos> <pad> <pad> <pad> <pad> <pad> <pad> <pad> <pad> <pad> <pad> <pad> <pad> <pad> <pad> <pad> <sos> mehrere <unk> stehen in einem operationssaal um einen patienten herum . <eos> <pad> <pad> <pad> <pad> <pad> <pad> <pad> <pad> <pad> <pad> <pad> <pad> <pad> <sos> ein mann mit kamera und hund auf einem kieshügel . <eos> <pad> <pad> <pad> <pad> <pad> <pad> <pad> <pad> <pad> <pad> <pad> <pad> <pad> <pad> <sos> dieser junge spielt auf einem spielplatz mit reifen darauf . <eos> <pad> <pad> <pad> <pad> <pad> <pad> <pad> <pad> <pad> <pad> <pad> <pad> <pad> <pad> <sos> eine person in einem blauen mantel steht auf einem belebten gehweg und betrachtet ein gemälde einer straßenszene . <eos> <pad> <pad> <pad> <pad> <pad> <pad> <sos> der mann mit dem blauen helm reitet auf einer <unk> . <eos> <pad> <pad> <pad> <pad> <pad> <pad> <pad> <pad> <pad> <pad> <pad> <pad> <pad> <sos> ein kleinkind setzt ein buntes puzzle zusammen . <eos> <pad> <pad> <pad> <pad> <pad> <pad> <pad> <pad> <pad> <pad> <pad> <pad> <pad> <pad> <pad> <pad> <sos> ein football - spieler rennt mit einem ball und wird von der gegnerischen mannschaft verfolgt . <eos> <pad> <pad> <pad> <pad> <pad> <pad> <pad> <pad> <sos> ein mann und eine frau , beide in kurzen hosen , gehen einen bürgersteig entlang . <eos> <pad> <pad> <pad> <pad> <pad> <pad> <pad> <pad> <sos> ein junge in orangefarbenem hemd hat <unk> haare . <eos> <pad> <pad> <pad> <pad> <pad> <pad> <pad> <pad> <pad> <pad> <pad> <pad> <pad> <pad> <pad> <sos> ein mann in einem schwarzen hemd schaut in die kamera ; verschiedene <unk> sind <unk> i m hintergrund zu sehen . <eos> <pad> <pad> <pad> <sos> ein hund fängt ein schwarzes frisbee . <eos> <pad> <pad> <pad> <pad> <pad> <pad> <pad> <pad> <pad> <pad> <pad> <pad> <pad> <pad> <pad> <pad> <pad> <sos> ein herr in einem burgunderroten langärmligen oberteil steht an einem obststand und verkauft wassermelone . <eos> <pad> <pad> <pad> <pad> <pad> <pad> <pad> <pad> <pad> <sos> zwei frauen fahren auf einem feldweg fahrrad . <eos> <pad> <pad> <pad> <pad> <pad> <pad> <pad> <pad> <pad> <pad> <pad> <pad> <pad> <pad> <pad> <pad> <sos> ein <unk> junger mann fegt den boden . <eos> <pad> <pad> <pad> <pad> <pad> <pad> <pad> <pad> <pad> <pad> <pad> <pad> <pad> <pad> <pad> <pad> <sos> dies ist ein mann , der auf einem dach steht , mit bauarbeiten i m hintergrund . <eos> <pad> <pad> <pad> <pad> <pad> <pad> <pad> <sos> zwei menschen in einem dichten <unk> , überall bäume und gras . <eos> <pad> <pad> <pad> <pad> <pad> <pad> <pad> <pad> <pad> <pad> <pad> <pad> <sos> ein schwarzer pudel läuft i m schnee . <eos> <pad> <pad> <pad> <pad> <pad> <pad> <pad> <pad> <pad> <pad> <pad> <pad> <pad> <pad> <pad> <pad> <sos> ein mann springt bei einem basketballspiel mit dem ball in der hand hoch . <eos> <pad> <pad> <pad> <pad> <pad> <pad> <pad> <pad> <pad> <pad> <sos> ein pärchen , das <unk> zu sein scheint . <eos> <pad> <pad> <pad> <pad> <pad> <pad> <pad> <pad> <pad> <pad> <pad> <pad> <pad> <pad> <pad> <sos> eine gruppe von menschen in gelb - schwarzen anzügen tritt vor einer großen menschenmenge auf . <eos> <pad> <pad> <pad> <pad> <pad> <pad> <pad> <pad> <sos> eine mutter und ein kind am strand , i m hintergrund segelboote . <eos> <pad> <pad> <pad> <pad> <pad> <pad> <pad> <pad> <pad> <pad> <pad> <sos> ein mann steht hinter einer riesigen grünen maschine . <eos> <pad> <pad> <pad> <pad> <pad> <pad> <pad> <pad> <pad> <pad> <pad> <pad> <pad> <pad> <pad> <sos> die menge <unk> aus , als das konzert zu ende geht . <eos> <pad> <pad> <pad> <pad> <pad> <pad> <pad> <pad> <pad> <pad> <pad> <pad> <sos> eine gruppe von motocross - rennfahrern steht vor dem start in einer reihe . <eos> <pad> <pad> <pad> <pad> <pad> <pad> <pad> <pad> <pad> <pad> <sos> eine frau mit <unk> haar sitzt an einem tisch voll essen und gestikuliert . <eos> <pad> <pad> <pad> <pad> <pad> <pad> <pad> <pad> <pad> <pad> <sos> ein mädchen mit hut sitzt an einem strand und telefoniert mit ihrem handy . <eos> <pad> <pad> <pad> <pad> <pad> <pad> <pad> <pad> <pad> <pad> <sos> da liegt ein mann mit einer rot - weißen mütze auf dem kopf auf dem boden . <eos> <pad> <pad> <pad> <pad> <pad> <pad> <pad> <sos> ein mann und zwei frauen unterhalten sich auf dem rasen . <eos> <pad> <pad> <pad> <pad> <pad> <pad> <pad> <pad> <pad> <pad> <pad> <pad> <pad> <sos> zwei erwachsene und zwei kinder fahren auf fahrrädern eine straße entlang . <eos> <pad> <pad> <pad> <pad> <pad> <pad> <pad> <pad> <pad> <pad> <pad> <pad> <sos> der mann i m dunklen anzug macht eine talkshow i m radio . <eos> <pad> <pad> <pad> <pad> <pad> <pad> <pad> <pad> <pad> <pad> <pad> <sos> ein mann mit einem roten helm in den bergen . <eos> <pad> <pad> <pad> <pad> <pad> <pad> <pad> <pad> <pad> <pad> <pad> <pad> <pad> <pad> <sos> soldaten einer <unk> stehen stramm . <eos> <pad> <pad> <pad> <pad> <pad> <pad> <pad> <pad> <pad> <pad> <pad> <pad> <pad> <pad> <pad> <pad> <pad> <pad> <sos> eine frau spricht auf einer versammlung in ein mikrophon . <eos> <pad> <pad> <pad> <pad> <pad> <pad> <pad> <pad> <pad> <pad> <pad> <pad> <pad> <pad> <sos> eine gruppe snowboarder fliegt über eine <unk> . <eos> <pad> <pad> <pad> <pad> <pad> <pad> <pad> <pad> <pad> <pad> <pad> <pad> <pad> <pad> <pad> <pad> <sos> mutter und tochter gehen eine straße hinunter . <eos> <pad> <pad> <pad> <pad> <pad> <pad> <pad> <pad> <pad> <pad> <pad> <pad> <pad> <pad> <pad> <pad> <sos> ein spieler am strand wartet darauf , einen ball zu fangen . <eos> <pad> <pad> <pad> <pad> <pad> <pad> <pad> <pad> <pad> <pad> <pad> <pad> <sos> eine blonde frau trägt ein ärmelloses hemd und verschieden farbige handschuhe . <eos> <pad> <pad> <pad> <pad> <pad> <pad> <pad> <pad> <pad> <pad> <pad> <pad> <sos> ein mann mit einer roten schwimmweste fährt durch eine bucht wasserski . <eos> <pad> <pad> <pad> <pad> <pad> <pad> <pad> <pad> <pad> <pad> <pad> <pad> <sos> ein mann in einem schwarzen hemd hält ein baby . <eos> <pad> <pad> <pad> <pad> <pad> <pad> <pad> <pad> <pad> <pad> <pad> <pad> <pad> <pad> <sos> der junge mann hält eine getränk und kontrolliert sein handy . <eos> <pad> <pad> <pad> <pad> <pad> <pad> <pad> <pad> <pad> <pad> <pad> <pad> <pad> <sos> ein gelb gekleideter mann schickt sich an , unter den blicken seiner frau einen zug von seiner zigarre zu machen . <eos> <pad> <pad> <pad> <sos> eine älterer mann pflückt blumen . <eos> <pad> <pad> <pad> <pad> <pad> <pad> <pad> <pad> <pad> <pad> <pad> <pad> <pad> <pad> <pad> <pad> <pad> <pad> <sos> ein junges mädchen in einem bunten outfit , späht durch einen holzzaun . <eos> <pad> <pad> <pad> <pad> <pad> <pad> <pad> <pad> <pad> <pad> <pad> <sos> ein mann mit einem bart und einem hut bettelt die leute um geld an . <eos> <pad> <pad> <pad> <pad> <pad> <pad> <pad> <pad> <pad> <sos> zwei bauarbeiter schweißen eine metallstruktur . <eos> <pad> <pad> <pad> <pad> <pad> <pad> <pad> <pad> <pad> <pad> <pad> <pad> <pad> <pad> <pad> <pad> <pad> <pad> <sos> drei personen auf der bühne , die singen und instrumente spielen . <eos> <pad> <pad> <pad> <pad> <pad> <pad> <pad> <pad> <pad> <pad> <pad> <pad> <sos> eine frau klettert eine steile felswand hinauf . <eos> <pad> <pad> <pad> <pad> <pad> <pad> <pad> <pad> <pad> <pad> <pad> <pad> <pad> <pad> <pad> <pad> <sos> eine person hängt an einem <unk> und klettert eine große felswand hinab . <eos> <pad> <pad> <pad> <pad> <pad> <pad> <pad> <pad> <pad> <pad> <pad> <sos> eine <unk> von zwei frauen , die zusammen stehen . <eos> <pad> <pad> <pad> <pad> <pad> <pad> <pad> <pad> <pad> <pad> <pad> <pad> <pad> <pad> <sos> mehrere personen , die darauf warten , ihre instrumente zu spielen <eos> <pad> <pad> <pad> <pad> <pad> <pad> <pad> <pad> <pad> <pad> <pad> <pad> <pad> <sos> ein kind , dem ein schuh fehlt , sitzt auf einem roten kissen . <eos> <pad> <pad> <pad> <pad> <pad> <pad> <pad> <pad> <pad> <pad> <sos> zwei kleine kinder spielen mit spielsachen . <eos> <pad> <pad> <pad> <pad> <pad> <pad> <pad> <pad> <pad> <pad> <pad> <pad> <pad> <pad> <pad> <pad> <pad> <sos> eine personengruppe sitzt auf einem sofa herum , eine person hält eine katze . <eos> <pad> <pad> <pad> <pad> <pad> <pad> <pad> <pad> <pad> <pad> <sos> person in <unk> fahrzeug fährt auf zwei rädern . <eos> <pad> <pad> <pad> <pad> <pad> <pad> <pad> <pad> <pad> <pad> <pad> <pad> <pad> <pad> <pad> <sos> ein mann angelt bei sonnenuntergang an einer anlegestelle . <eos> <pad> <pad> <pad> <pad> <pad> <pad> <pad> <pad> <pad> <pad> <pad> <pad> <pad> <pad> <pad> <sos> ein mann i m kilt teilt snacks mit seinen kindern . <eos> <pad> <pad> <pad> <pad> <pad> <pad> <pad> <pad> <pad> <pad> <pad> <pad> <pad> <sos> ein junger asiatischer mann , der eine cola trinkt und mit bleistift und <unk> lernt . <eos> <pad> <pad> <pad> <pad> <pad> <pad> <pad> <pad> <sos> bauarbeiter arbeiten mit einer maschine bei nacht . <eos> <pad> <pad> <pad> <pad> <pad> <pad> <pad> <pad> <pad> <pad> <pad> <pad> <pad> <pad> <pad> <pad> <sos> leute gehen auf einer belebten straße in der stadt aneinander vorbei und sprechen in ihre handys . <eos> <pad> <pad> <pad> <pad> <pad> <pad> <pad> <sos> ein kleines mädchen sitzt auf einem stuhl und bläst einen riesigen gelben ballon auf . <eos> <pad> <pad> <pad> <pad> <pad> <pad> <pad> <pad> <pad> <sos> ein geigenspieler und ein sänger treten vor publikum auf . <eos> <pad> <pad> <pad> <pad> <pad> <pad> <pad> <pad> <pad> <pad> <pad> <pad> <pad> <pad> <sos> eine frau in lila leggings läuft über eine straße . <eos> <pad> <pad> <pad> <pad> <pad> <pad> <pad> <pad> <pad> <pad> <pad> <pad> <pad> <pad> <sos> zwei ältere personen werden von einer kameracrew , die bei einem <unk> - grünen lieferwagen steht , befragt . <eos> <pad> <pad> <pad> <pad> <pad> <sos> ein junge mit einer grünen tasche steht hinter einer säule in einer u - bahn - station . <eos> <pad> <pad> <pad> <pad> <pad> <pad> <sos> eine gruppe von menschen isst gemeinsam i m freien . <eos> <pad> <pad> <pad> <pad> <pad> <pad> <pad> <pad> <pad> <pad> <pad> <pad> <pad> <pad> <sos> ein mann in schwarzem hemd , das mit paintball - farbspritzern bedeckt ist , macht eine grimasse . <eos> <pad> <pad> <pad> <pad> <pad> <pad> <sos> mehrere surfer reiten auf einer welle , die sich dem strand nähert . <eos> <pad> <pad> <pad> <pad> <pad> <pad> <pad> <pad> <pad> <pad> <pad> <sos> eine engelsstatue ist an der seite eines gebäudes angebracht . <eos> <pad> <pad> <pad> <pad> <pad> <pad> <pad> <pad> <pad> <pad> <pad> <pad> <pad> <pad> <sos> ein mädchen mit braunen , lockigen haaren benutzt eine blaue mobile spielkonsole in einem zimmer . <eos> <pad> <pad> <pad> <pad> <pad> <pad> <pad> <pad> <sos> ein mann mit kopfhörern steht vor einem poster . <eos> <pad> <pad> <pad> <pad> <pad> <pad> <pad> <pad> <pad> <pad> <pad> <pad> <pad> <pad> <pad> <sos> zwei männer arbeiten nachts i m freien i m schnee . <eos> <pad> <pad> <pad> <pad> <pad> <pad> <pad> <pad> <pad> <pad> <pad> <pad> <pad> <sos> ein junge mit rotem hemd steht mit weit geöffneten armen auf der straße . <eos> <pad> <pad> <pad> <pad> <pad> <pad> <pad> <pad> <pad> <pad> <sos> ein alter mann steht vor einem heruntergekommenen gebäude . <eos> <pad> <pad> <pad> <pad> <pad> <pad> <pad> <pad> <pad> <pad> <pad> <pad> <pad> <pad> <pad> <sos> arbeiter kümmern sich um ein gebäude mit vielen fenstern . <eos> <pad> <pad> <pad> <pad> <pad> <pad> <pad> <pad> <pad> <pad> <pad> <pad> <pad> <pad> <sos> mehrere personen in outdoor - ausrüstung betrachten eine landkarte . <eos> <pad> <pad> <pad> <pad> <pad> <pad> <pad> <pad> <pad> <pad> <pad> <pad> <pad> <pad> <sos> zwei alte männer stehen in der nähe eines tisches in einem <unk> restaurant . <eos> <pad> <pad> <pad> <pad> <pad> <pad> <pad> <pad> <pad> <pad> <sos> ein asiat schlachtet ein schwein , das an einem haken hängt . <eos> <pad> <pad> <pad> <pad> <pad> <pad> <pad> <pad> <pad> <pad> <pad> <pad> <sos> ein junge versucht , ein mädchen davon zu <unk> , mit ihm in ein geschäft zu gehen . <eos> <pad> <pad> <pad> <pad> <pad> <pad> <sos> ein mann steigt über eine holzleiter aus einem <unk> . <eos> <pad> <pad> <pad> <pad> <pad> <pad> <pad> <pad> <pad> <pad> <pad> <pad> <pad> <pad> <sos> ein baby stapelt neben seinem <unk> fröhlich <unk> . <eos> <pad> <pad> <pad> <pad> <pad> <pad> <pad> <pad> <pad> <pad> <pad> <pad> <pad> <pad> <pad> <sos> frauen stehen neben einem stand . <eos> <pad> <pad> <pad> <pad> <pad> <pad> <pad> <pad> <pad> <pad> <pad> <pad> <pad> <pad> <pad> <pad> <pad> <pad> <sos> frauen testen das <unk> <unk> <unk> . <eos> <pad> <pad> <pad> <pad> <pad> <pad> <pad> <pad> <pad> <pad> <pad> <pad> <pad> <pad> <pad> <pad> <pad> <sos> eine verlassene straße mit einem jogger in rotem t - shirt in der ferne . <eos> <pad> <pad> <pad> <pad> <pad> <pad> <pad> <pad> <pad> <sos> ein polizist mit vielen gegenständen an seinem gürtel , bestellt etwas in einem café . <eos> <pad> <pad> <pad> <pad> <pad> <pad> <pad> <pad> <pad> <sos> eine frau mit dunklem oberteil , dunkler sonnenbrille und <unk> geht die straße entlang während sie eine grimasse schneidet . <eos> <pad> <pad> <pad> <pad> <sos> ein mann mit cowboyhut setzt sich und liest ein buch . <eos> <pad> <pad> <pad> <pad> <pad> <pad> <pad> <pad> <pad> <pad> <pad> <pad> <pad> <sos> ein kleines mädchen in einem rosa rock sitzt neben einem jungen . <eos> <pad> <pad> <pad> <pad> <pad> <pad> <pad> <pad> <pad> <pad> <pad> <pad> <sos> eine männliche person in unterwäsche posiert auf dem times square für ein bild mit zwei frauen . <eos> <pad> <pad> <pad> <pad> <pad> <pad> <pad> <sos> ein junges <unk> steht an der seitenlinie und macht sich warm . <eos> <pad> <pad> <pad> <pad> <pad> <pad> <pad> <pad> <pad> <pad> <pad> <pad> <sos> ein tennisspieler auf einem tennisplatz spielt einen hohen aufschlag zurück . <eos> <pad> <pad> <pad> <pad> <pad> <pad> <pad> <pad> <pad> <pad> <pad> <pad> <pad> <sos> eine gruppe personen mit gepäck reiht sich außerhalb eines flughafens auf . <eos> <pad> <pad> <pad> <pad> <pad> <pad> <pad> <pad> <pad> <pad> <pad> <pad> <sos> eine frau i m badeanzug schläft auf einer bank . <eos> <pad> <pad> <pad> <pad> <pad> <pad> <pad> <pad> <pad> <pad> <pad> <pad> <pad> <pad> <sos> ein mann taucht in einem schwimmbad eines hotels . <eos> <pad> <pad> <pad> <pad> <pad> <pad> <pad> <pad> <pad> <pad> <pad> <pad> <pad> <pad> <pad> <sos> ein blau gekleideter fahrradfahrer parkt in einem holzhaus . <eos> <pad> <pad> <pad> <pad> <pad> <pad> <pad> <pad> <pad> <pad> <pad> <pad> <pad> <pad> <pad> <sos> ein bärtiger mann spielt schlagzeug in der abenddämmerung und ein mann , der hinter ihm sitzt , spielt auf einer e - gitarre . <eos> <sos> viele leute gehen durch einen part mit vielen bäumen . <eos> <pad> <pad> <pad> <pad> <pad> <pad> <pad> <pad> <pad> <pad> <pad> <pad> <pad> <pad> <sos> ein mann schweißt etwas auf einem <unk> . <eos> <pad> <pad> <pad> <pad> <pad> <pad> <pad> <pad> <pad> <pad> <pad> <pad> <pad> <pad> <pad> <pad> <sos> das <unk> fahrzeug fährt mit hoher geschwindigkeit auf dem kies . <eos> <pad> <pad> <pad> <pad> <pad> <pad> <pad> <pad> <pad> <pad> <pad> <pad> <pad> <sos> drei teenager , die holz eine straße entlang tragen , während einer davon in die kamera lächelt . <eos> <pad> <pad> <pad> <pad> <pad> <pad> <sos> eine frau liegt am strand neben ihrem fahrrad . <eos> <pad> <pad> <pad> <pad> <pad> <pad> <pad> <pad> <pad> <pad> <pad> <pad> <pad> <pad> <pad> <sos> ein älterer mann geht an gebäuden vorbei , die mit graffiti besprüht sind . <eos> <pad> <pad> <pad> <pad> <pad> <pad> <pad> <pad> <pad> <pad> <sos> jemand in grünem hemd rennt hinter einem kleinen hund . <eos> <pad> <pad> <pad> <pad> <pad> <pad> <pad> <pad> <pad> <pad> <pad> <pad> <pad> <pad> <sos> viele leute sind sitzen in einem restaurant , während ein kellner zwischen den tischen herumläuft . <eos> <pad> <pad> <pad> <pad> <pad> <pad> <pad> <pad> <sos> ein mitglied der us <unk> nimmt eine auszeichnung von einem asiatischen mann entgegen . <eos> <pad> <pad> <pad> <pad> <pad> <pad> <pad> <pad> <pad> <pad> <sos> ein lächelndes kleines mädchen wird von einem erwachsenen hochgehoben . <eos> <pad> <pad> <pad> <pad> <pad> <pad> <pad> <pad> <pad> <pad> <pad> <pad> <pad> <pad> <sos> eine gruppe von freunden steht vor einem kunstwerk , das sie für ein bild gesprüht haben . <eos> <pad> <pad> <pad> <pad> <pad> <pad> <pad> <sos> ein schwarzer hund schüttelt wasser von seinem körper . <eos> <pad> <pad> <pad> <pad> <pad> <pad> <pad> <pad> <pad> <pad> <pad> <pad> <pad> <pad> <pad> <sos> ein kleines mädchen in einem rosa oberteil hält eine rote tasche in der hand . <eos> <pad> <pad> <pad> <pad> <pad> <pad> <pad> <pad> <pad> <sos> eine frau aus dem nahen osten spricht bei einer protestkundgebung in ein mikrofon . <eos> <pad> <pad> <pad> <pad> <pad> <pad> <pad> <pad> <pad> <pad>\n",
            "trg: <sos> a man wearing jeans and a hooded , long - sleeved top , and a backpack , walks in a desert . <eos> <sos> a red <unk> is about to dock at a port . <eos> <pad> <pad> <pad> <pad> <pad> <pad> <pad> <pad> <pad> <pad> <pad> <sos> a black old woman with gray hair is holding onto a yellow flower . <eos> <pad> <pad> <pad> <pad> <pad> <pad> <pad> <pad> <sos> a girl smiles outside of a store . <eos> <pad> <pad> <pad> <pad> <pad> <pad> <pad> <pad> <pad> <pad> <pad> <pad> <pad> <pad> <sos> a smiling woman is playing the violin in front of a turquoise background . <eos> <pad> <pad> <pad> <pad> <pad> <pad> <pad> <pad> <sos> people standing on a beach , one under a green umbrella <eos> <pad> <pad> <pad> <pad> <pad> <pad> <pad> <pad> <pad> <pad> <pad> <sos> a young boy walking through the water with a net with waves behind him . <eos> <pad> <pad> <pad> <pad> <pad> <pad> <pad> <sos> a person is walking in a city with a group of birds . <eos> <pad> <pad> <pad> <pad> <pad> <pad> <pad> <pad> <pad> <sos> a man tries to fix a colorful object . <eos> <pad> <pad> <pad> <pad> <pad> <pad> <pad> <pad> <pad> <pad> <pad> <pad> <pad> <sos> soccer players on a field with a ball going into the net . <eos> <pad> <pad> <pad> <pad> <pad> <pad> <pad> <pad> <pad> <sos> six contestants in a very close bike race all in different color uniforms . <eos> <pad> <pad> <pad> <pad> <pad> <pad> <pad> <pad> <sos> three young men stand holding strings <eos> <pad> <pad> <pad> <pad> <pad> <pad> <pad> <pad> <pad> <pad> <pad> <pad> <pad> <pad> <pad> <pad> <sos> in this picture , two girls are doing karate . <eos> <pad> <pad> <pad> <pad> <pad> <pad> <pad> <pad> <pad> <pad> <pad> <pad> <sos> three people sit looking over a drainage ditch next to a crocodile warning sign . <eos> <pad> <pad> <pad> <pad> <pad> <pad> <pad> <sos> two people are shopping in a supermarket with international flags above their heads . <eos> <pad> <pad> <pad> <pad> <pad> <pad> <pad> <pad> <sos> children playing a game in a field . <eos> <pad> <pad> <pad> <pad> <pad> <pad> <pad> <pad> <pad> <pad> <pad> <pad> <pad> <pad> <sos> a group of woman standing in front of a blue <unk> <unk> banner . <eos> <pad> <pad> <pad> <pad> <pad> <pad> <pad> <pad> <sos> a group of people walking on snowy steps . <eos> <pad> <pad> <pad> <pad> <pad> <pad> <pad> <pad> <pad> <pad> <pad> <pad> <pad> <sos> a firefighter is shown trying to climb into some debris . <eos> <pad> <pad> <pad> <pad> <pad> <pad> <pad> <pad> <pad> <pad> <pad> <sos> group of doctors are gathered around a patient in a operating room . <eos> <pad> <pad> <pad> <pad> <pad> <pad> <pad> <pad> <pad> <sos> a man with a camera and a dog on a mound of gravel . <eos> <pad> <pad> <pad> <pad> <pad> <pad> <pad> <pad> <sos> this boy is playing on a playground with tires on it . <eos> <pad> <pad> <pad> <pad> <pad> <pad> <pad> <pad> <pad> <pad> <sos> a person dressed in a blue coat is standing in on a busy sidewalk , studying painting of a street scene . <eos> <sos> the man wearing a blue helmet is riding a <unk> . <eos> <pad> <pad> <pad> <pad> <pad> <pad> <pad> <pad> <pad> <pad> <pad> <sos> a toddler works a colorful puzzle . <eos> <pad> <pad> <pad> <pad> <pad> <pad> <pad> <pad> <pad> <pad> <pad> <pad> <pad> <pad> <pad> <sos> a football player runs with a ball , chased by the opposing team . <eos> <pad> <pad> <pad> <pad> <pad> <pad> <pad> <pad> <sos> a man and woman , both wearing shorts , are walking down a sidewalk . <eos> <pad> <pad> <pad> <pad> <pad> <pad> <pad> <sos> a boy wearing an orange shirt has his hair sticking straight up from his head . <eos> <pad> <pad> <pad> <pad> <pad> <pad> <sos> a man in a black shirt looks at the camera ; various <unk> can be seen hanging in the background . <eos> <pad> <sos> a dog catches black frisbee . <eos> <pad> <pad> <pad> <pad> <pad> <pad> <pad> <pad> <pad> <pad> <pad> <pad> <pad> <pad> <pad> <pad> <sos> a gentlemen in a burgundy long - sleeve shirt is at a fruit stand selling watermelon . <eos> <pad> <pad> <pad> <pad> <pad> <sos> two women are riding bicycles down a dirt road . <eos> <pad> <pad> <pad> <pad> <pad> <pad> <pad> <pad> <pad> <pad> <pad> <pad> <sos> a young man hard at work , sweeping the floor . <eos> <pad> <pad> <pad> <pad> <pad> <pad> <pad> <pad> <pad> <pad> <pad> <sos> this is a man standing on a rooftop with construction in the background . <eos> <pad> <pad> <pad> <pad> <pad> <pad> <pad> <pad> <sos> two people in a <unk> jungle area with trees and grass everywhere . <eos> <pad> <pad> <pad> <pad> <pad> <pad> <pad> <pad> <pad> <sos> a black poodle is running in the snow . <eos> <pad> <pad> <pad> <pad> <pad> <pad> <pad> <pad> <pad> <pad> <pad> <pad> <pad> <sos> a man is jumping with the ball in hand during a pick up basketball game . <eos> <pad> <pad> <pad> <pad> <pad> <pad> <sos> a couple that looks like they are in love . <eos> <pad> <pad> <pad> <pad> <pad> <pad> <pad> <pad> <pad> <pad> <pad> <pad> <sos> a group of people in yellow and black uniforms performing in front of a large crowd . <eos> <pad> <pad> <pad> <pad> <pad> <sos> a mom and a kid on the beach with sailboats in the background . <eos> <pad> <pad> <pad> <pad> <pad> <pad> <pad> <pad> <sos> a man is standing behind a giant green machine . <eos> <pad> <pad> <pad> <pad> <pad> <pad> <pad> <pad> <pad> <pad> <pad> <pad> <sos> a crowd going wild as the concert comes to an end . <eos> <pad> <pad> <pad> <pad> <pad> <pad> <pad> <pad> <pad> <pad> <sos> a group of motocross racers lined up to start . <eos> <pad> <pad> <pad> <pad> <pad> <pad> <pad> <pad> <pad> <pad> <pad> <pad> <sos> a woman with braided hair is sitting at a table full of food and gesturing . <eos> <pad> <pad> <pad> <pad> <pad> <pad> <sos> a girl in a hat sit on a beach while talking on her cellphone . <eos> <pad> <pad> <pad> <pad> <pad> <pad> <pad> <sos> there is a man laying on the ground with a red and white hat on his head . <eos> <pad> <pad> <pad> <pad> <sos> a man and two women having a conversation on a lawn . <eos> <pad> <pad> <pad> <pad> <pad> <pad> <pad> <pad> <pad> <pad> <sos> two adults and two children are riding bicycles down a street . <eos> <pad> <pad> <pad> <pad> <pad> <pad> <pad> <pad> <pad> <pad> <sos> the man in the dark suit is doing a talk radio show . <eos> <pad> <pad> <pad> <pad> <pad> <pad> <pad> <pad> <pad> <sos> a man with a red helmet in the mountains <eos> <pad> <pad> <pad> <pad> <pad> <pad> <pad> <pad> <pad> <pad> <pad> <pad> <pad> <sos> <unk> in a marching parade standing still at attention . <eos> <pad> <pad> <pad> <pad> <pad> <pad> <pad> <pad> <pad> <pad> <pad> <pad> <sos> a woman speaks into a microphone at a social gathering . <eos> <pad> <pad> <pad> <pad> <pad> <pad> <pad> <pad> <pad> <pad> <pad> <sos> a group of snowboarders fly over the crest of a hill . <eos> <pad> <pad> <pad> <pad> <pad> <pad> <pad> <pad> <pad> <pad> <sos> a mother and daughter walking down a city street . <eos> <pad> <pad> <pad> <pad> <pad> <pad> <pad> <pad> <pad> <pad> <pad> <pad> <sos> a player on the beach is waiting to catch a ball . <eos> <pad> <pad> <pad> <pad> <pad> <pad> <pad> <pad> <pad> <pad> <sos> a blond woman wearing a tank top and different colored gloves . <eos> <pad> <pad> <pad> <pad> <pad> <pad> <pad> <pad> <pad> <pad> <sos> a man wearing a red life jacket is water - skiing across a bay . <eos> <pad> <pad> <pad> <pad> <pad> <pad> <pad> <sos> a man in a black shirt holds a baby . <eos> <pad> <pad> <pad> <pad> <pad> <pad> <pad> <pad> <pad> <pad> <pad> <pad> <sos> the young man is holding a drink and checking his cellphone . <eos> <pad> <pad> <pad> <pad> <pad> <pad> <pad> <pad> <pad> <pad> <sos> a man in yellow is about to take a puff of his cigar as his wife watches . <eos> <pad> <pad> <pad> <pad> <sos> an older man picking flowers . <eos> <pad> <pad> <pad> <pad> <pad> <pad> <pad> <pad> <pad> <pad> <pad> <pad> <pad> <pad> <pad> <pad> <sos> young girl in a brightly colored outfit peeks through a wooden fence . <eos> <pad> <pad> <pad> <pad> <pad> <pad> <pad> <pad> <pad> <sos> a man with a beard and a hat is begging for money from people . <eos> <pad> <pad> <pad> <pad> <pad> <pad> <pad> <sos> two construction workers are welding a metal structure . <eos> <pad> <pad> <pad> <pad> <pad> <pad> <pad> <pad> <pad> <pad> <pad> <pad> <pad> <sos> three people on stage singing and playing instruments . <eos> <pad> <pad> <pad> <pad> <pad> <pad> <pad> <pad> <pad> <pad> <pad> <pad> <pad> <sos> a woman climbs up a steep rock face . <eos> <pad> <pad> <pad> <pad> <pad> <pad> <pad> <pad> <pad> <pad> <pad> <pad> <pad> <sos> a person hangs from a safety rope as he climbs down a large cliff . <eos> <pad> <pad> <pad> <pad> <pad> <pad> <pad> <sos> a closeup of two women standing together . <eos> <pad> <pad> <pad> <pad> <pad> <pad> <pad> <pad> <pad> <pad> <pad> <pad> <pad> <pad> <sos> several people waiting to play musical instruments <eos> <pad> <pad> <pad> <pad> <pad> <pad> <pad> <pad> <pad> <pad> <pad> <pad> <pad> <pad> <pad> <sos> a child who is missing one shoe is sitting on a red cushion . <eos> <pad> <pad> <pad> <pad> <pad> <pad> <pad> <pad> <sos> two young children are playing with toys . <eos> <pad> <pad> <pad> <pad> <pad> <pad> <pad> <pad> <pad> <pad> <pad> <pad> <pad> <pad> <sos> a group of people sitting around on a couch , one holding a cat . <eos> <pad> <pad> <pad> <pad> <pad> <pad> <pad> <sos> person in a <unk> driving on 2 wheels . <eos> <pad> <pad> <pad> <pad> <pad> <pad> <pad> <pad> <pad> <pad> <pad> <pad> <pad> <sos> a man fishing off a pier at sunset . <eos> <pad> <pad> <pad> <pad> <pad> <pad> <pad> <pad> <pad> <pad> <pad> <pad> <pad> <sos> a man in a <unk> sharing a snack with his kids . <eos> <pad> <pad> <pad> <pad> <pad> <pad> <pad> <pad> <pad> <pad> <sos> a young asian man studying with a pencil and a <unk> while drinking a cola . <eos> <pad> <pad> <pad> <pad> <pad> <pad> <sos> construction workers are using a machine at night . <eos> <pad> <pad> <pad> <pad> <pad> <pad> <pad> <pad> <pad> <pad> <pad> <pad> <pad> <sos> people pass each other on a busy city street while talking on their cellphones . <eos> <pad> <pad> <pad> <pad> <pad> <pad> <pad> <sos> a little girl sitting on a chair is blowing up a giant yellow balloon . <eos> <pad> <pad> <pad> <pad> <pad> <pad> <pad> <sos> a violinist and a singer perform in front of people . <eos> <pad> <pad> <pad> <pad> <pad> <pad> <pad> <pad> <pad> <pad> <pad> <sos> a woman in purple leggings runs across a street . <eos> <pad> <pad> <pad> <pad> <pad> <pad> <pad> <pad> <pad> <pad> <pad> <pad> <sos> two elderly people being interviewed by a camera crew standing near a green metallic van . <eos> <pad> <pad> <pad> <pad> <pad> <pad> <sos> a young boy with a green bag stands behind a pole in a subway station . <eos> <pad> <pad> <pad> <pad> <pad> <pad> <sos> a group of people are eating a meal outdoors together . <eos> <pad> <pad> <pad> <pad> <pad> <pad> <pad> <pad> <pad> <pad> <pad> <sos> a man in a black shirt , covered in paintball <unk> , makes a face . <eos> <pad> <pad> <pad> <pad> <pad> <pad> <sos> several surfers ride a wave approaching the beach . <eos> <pad> <pad> <pad> <pad> <pad> <pad> <pad> <pad> <pad> <pad> <pad> <pad> <pad> <sos> a statue of an angel mounted to the side of a building . <eos> <pad> <pad> <pad> <pad> <pad> <pad> <pad> <pad> <pad> <sos> a girl with brown , curly hair is using a blue mobile device inside a room . <eos> <pad> <pad> <pad> <pad> <pad> <sos> a man wearing headphones is standing in front of a poster . <eos> <pad> <pad> <pad> <pad> <pad> <pad> <pad> <pad> <pad> <pad> <sos> two men working outdoors at night in the snow . <eos> <pad> <pad> <pad> <pad> <pad> <pad> <pad> <pad> <pad> <pad> <pad> <pad> <sos> a young boy wearing a red shirt stands in the street with his arms open wide . <eos> <pad> <pad> <pad> <pad> <pad> <sos> an old man stands in front of a <unk> building . <eos> <pad> <pad> <pad> <pad> <pad> <pad> <pad> <pad> <pad> <pad> <pad> <sos> workers are attending to a building with many windows . <eos> <pad> <pad> <pad> <pad> <pad> <pad> <pad> <pad> <pad> <pad> <pad> <pad> <sos> a group of people in outdoor gear looking at a map . <eos> <pad> <pad> <pad> <pad> <pad> <pad> <pad> <pad> <pad> <pad> <sos> two old men stand near a table in a mcdonalds . <eos> <pad> <pad> <pad> <pad> <pad> <pad> <pad> <pad> <pad> <pad> <pad> <sos> asian man butchering a hog hanging from a hook . <eos> <pad> <pad> <pad> <pad> <pad> <pad> <pad> <pad> <pad> <pad> <pad> <pad> <sos> a boy trying to <unk> a girl to come with him into the store . <eos> <pad> <pad> <pad> <pad> <pad> <pad> <pad> <sos> a man <unk> out of a hole in the ice up a wooden ladder . <eos> <pad> <pad> <pad> <pad> <pad> <pad> <pad> <sos> a baby happily stacks his legos near his playpen . <eos> <pad> <pad> <pad> <pad> <pad> <pad> <pad> <pad> <pad> <pad> <pad> <pad> <sos> women are standing next to a produce stand . <eos> <pad> <pad> <pad> <pad> <pad> <pad> <pad> <pad> <pad> <pad> <pad> <pad> <pad> <sos> women check out <unk> <unk> hair mascot . <eos> <pad> <pad> <pad> <pad> <pad> <pad> <pad> <pad> <pad> <pad> <pad> <pad> <pad> <pad> <sos> a deserted roadway with a man in a red shirt jogging in the distance . <eos> <pad> <pad> <pad> <pad> <pad> <pad> <pad> <sos> a police officer , with many items around his waist , is ordering something at a cafe . <eos> <pad> <pad> <pad> <pad> <sos> a woman wearing a dark top and dark sunglasses is walking in <unk> heels and making a face . <eos> <pad> <pad> <pad> <sos> a man in a cowboy hat is sitting down and reading a book . <eos> <pad> <pad> <pad> <pad> <pad> <pad> <pad> <pad> <sos> a little girl in a pink skirt sitting next to a boy . <eos> <pad> <pad> <pad> <pad> <pad> <pad> <pad> <pad> <pad> <sos> a male in his underwear is posing for a picture with two women in time 's square . <eos> <pad> <pad> <pad> <pad> <sos> young female volleyball team stand on the sidelines to prepare . <eos> <pad> <pad> <pad> <pad> <pad> <pad> <pad> <pad> <pad> <pad> <pad> <sos> tennis player returning a high serve on tennis court . <eos> <pad> <pad> <pad> <pad> <pad> <pad> <pad> <pad> <pad> <pad> <pad> <pad> <sos> a group of people with luggage line up outside of an airport . <eos> <pad> <pad> <pad> <pad> <pad> <pad> <pad> <pad> <pad> <sos> a woman sleeping on a bench in a swimsuit . <eos> <pad> <pad> <pad> <pad> <pad> <pad> <pad> <pad> <pad> <pad> <pad> <pad> <sos> a man dives into a swimming pool at the hotel . <eos> <pad> <pad> <pad> <pad> <pad> <pad> <pad> <pad> <pad> <pad> <pad> <sos> a bicyclist in blue parked inside of an all wood building . <eos> <pad> <pad> <pad> <pad> <pad> <pad> <pad> <pad> <pad> <pad> <sos> a bearded man plays drums at dusk , and a man sitting behind him plays an electric guitar . <eos> <pad> <pad> <pad> <sos> many people are walking through a park with a lot of trees . <eos> <pad> <pad> <pad> <pad> <pad> <pad> <pad> <pad> <pad> <sos> a man is welding something on a cinder block . <eos> <pad> <pad> <pad> <pad> <pad> <pad> <pad> <pad> <pad> <pad> <pad> <pad> <sos> the blue and gray vehicle is racing through the gravel . <eos> <pad> <pad> <pad> <pad> <pad> <pad> <pad> <pad> <pad> <pad> <pad> <sos> three teenagers are carrying wood down a street while one of the teenagers is smiling at the camera . <eos> <pad> <pad> <pad> <sos> a woman is laying on the beach next to her bike . <eos> <pad> <pad> <pad> <pad> <pad> <pad> <pad> <pad> <pad> <pad> <sos> an older man walking past a buildings covered in graffiti . <eos> <pad> <pad> <pad> <pad> <pad> <pad> <pad> <pad> <pad> <pad> <pad> <sos> someone in a green shirt running behind a small dog . <eos> <pad> <pad> <pad> <pad> <pad> <pad> <pad> <pad> <pad> <pad> <pad> <sos> a number of people are sitting at a restaurant while a waiter navigates between the tables . <eos> <pad> <pad> <pad> <pad> <pad> <sos> a member of the us army <unk> an award from an asian man . <eos> <pad> <pad> <pad> <pad> <pad> <pad> <pad> <pad> <sos> a little girl who is smiling is being lifted up by an adult . <eos> <pad> <pad> <pad> <pad> <pad> <pad> <pad> <pad> <sos> a group of friends stand in front of art they have sprayed for a picture . <eos> <pad> <pad> <pad> <pad> <pad> <pad> <sos> a black dog is shaking water off his body . <eos> <pad> <pad> <pad> <pad> <pad> <pad> <pad> <pad> <pad> <pad> <pad> <pad> <sos> there is a little girl in a pink shirt who is holding a red purse in her hand <eos> <pad> <pad> <pad> <pad> <sos> a middle eastern woman is talking into a microphone at a protest event . <eos> <pad> <pad> <pad> <pad> <pad> <pad> <pad> <pad>\n",
            "res: <unk> a man with jeans and a blue cap and hat shirt is is walking through a . . <eos> a . . <eos> <unk> a red and is his to the the . . . <eos> <eos> <eos> <eos> <eos> <eos> <eos> <eos> <eos> <eos> <eos> <eos> <unk> a old old woman in a hair is holding a a green umbrella . <eos> <eos> <eos> <eos> <eos> <eos> <eos> <eos> <eos> <unk> a girl smiles in a a store . <eos> <eos> <eos> <eos> <eos> <eos> <eos> <eos> <eos> <eos> <eos> <eos> <eos> <eos> <eos> <unk> a smiling woman plays playing in front of a of a large background . <eos> <eos> <eos> <eos> <eos> <eos> <eos> <eos> <eos> <unk> people standing on beach beach with a a green green green . . <eos> <eos> <eos> <eos> <eos> <eos> <eos> <eos> <eos> <eos> <unk> a boy is in in the ocean with a water in a . <eos> water <eos> water <eos> <eos> <eos> <eos> <eos> <eos> <unk> a person walking in a a group of a crowd of a . <eos> <eos> <eos> <eos> <eos> <eos> <eos> <eos> <eos> <eos> <unk> a man trying to a a baseball . <eos> <eos> <eos> . <eos> <eos> <eos> <eos> <eos> <eos> <eos> <eos> <eos> <eos> <eos> <unk> soccer players are a field with a ball in to the ball . <eos> <eos> . <eos> <eos> <eos> <eos> <eos> <eos> <eos> <unk> six <unk> <unk> in a <unk> in a <unk> in in the . . <eos> <eos> <eos> <eos> <eos> <eos> <eos> <eos> <eos> <unk> three young men are with their . <eos> <eos> . <eos> <eos> . <eos> <eos> . <eos> <eos> <eos> . <eos> <eos> <eos> <unk> two two girls are are <unk> . <eos> <eos> . <eos> <eos> <eos> <eos> <eos> <eos> <eos> <eos> <eos> <eos> <eos> <eos> <eos> <unk> three people sit on at a a next to to a <unk> . <eos> <eos> <eos> <eos> <eos> <eos> <eos> <eos> <eos> <eos> <unk> two people are in in a a while one their , <unk> <unk> . <eos> . <eos> . <eos> . . <eos> <eos> <unk> children playing a basketball a a game . <eos> <eos> <eos> <eos> <eos> <eos> <eos> <eos> <eos> <eos> <eos> <eos> <eos> <eos> <eos> <unk> a group of women stand in front of a blue truck and . <eos> . . <eos> <eos> <eos> . <eos> <eos> <eos> <unk> a group of people walking walking a sidewalk . <eos> <eos> <eos> <eos> <eos> <eos> <eos> <eos> <eos> <eos> <eos> <eos> <eos> <eos> <unk> a fireman trying to to to a . . <unk> . <eos> <eos> . <eos> <eos> <eos> <eos> <eos> <eos> <eos> <eos> <eos> <unk> several of people are standing in a restaurant room a restaurant . . <eos> <eos> <eos> <eos> <eos> <eos> <eos> <eos> <eos> <eos> <unk> a man with a camera and dog on a a . . a . <eos> <eos> <eos> <eos> <eos> <eos> <eos> <eos> <eos> <unk> this boy is playing on a playground with a . <eos> . <eos> <eos> <eos> <eos> <eos> <eos> <eos> <eos> <eos> <eos> <eos> <unk> a person in a blue blue coat is standing on a sidewalk next to a a a a a . . . <eos> <unk> the man wearing a blue helmet is riding a bicycle . <eos> <eos> <eos> <eos> <eos> <eos> <eos> <eos> <eos> <eos> <eos> <eos> <unk> a toddler is sitting a puzzle . <eos> <eos> <eos> <eos> <eos> <eos> <eos> <eos> <eos> <eos> <eos> <eos> <eos> <eos> <eos> <eos> <unk> a football player is in a ball ball to by the ball team . <eos> . <eos> <eos> <eos> . <eos> <eos> <eos> <unk> a man and woman and both wearing shorts are are walking down a sidewalk . <eos> <eos> <eos> <eos> <eos> <eos> <eos> <eos> <unk> a boy in orange orange shirt is smiling . . his . . <eos> <eos> . <eos> <eos> <eos> <eos> <eos> <eos> <eos> <unk> a man in a black shirt looking at the camera in in <unk> in in in the in the background . <eos> <eos> <unk> a dog is a dog . <eos> <eos> <eos> <eos> <eos> <eos> <eos> <eos> <eos> <eos> <eos> <eos> <eos> <eos> <eos> <eos> <eos> <unk> a gentleman in a bright shirt - shirt is stands standing at a a food food . <eos> <eos> <eos> <eos> <eos> <eos> <unk> two women riding a a on a bike . . <eos> <eos> <eos> <eos> <eos> <eos> <eos> <eos> <eos> <eos> <eos> <eos> <eos> <unk> a man in a hat the on the . . . <eos> <eos> <eos> <eos> <eos> <eos> <eos> <eos> <eos> <eos> <eos> <eos> <unk> this woman is a on on a ladder with with with in in the background . <eos> <eos> <eos> <eos> <eos> <eos> <eos> <unk> two people in a a with , and and and the grass . <eos> <eos> . <eos> <eos> <eos> . <eos> <eos> . <unk> a black poodle is in in the snow . <eos> <eos> <eos> <eos> <eos> <eos> <eos> <eos> <eos> <eos> <eos> <eos> <eos> <eos> <unk> a man jumping a a a ball in a in a ball in the ball . <eos> <eos> <eos> <eos> <eos> <eos> <eos> <unk> a couple is taking at their prepare to be . <eos> <eos> <eos> <eos> <eos> <eos> <eos> <eos> <eos> <eos> <eos> <eos> <eos> <unk> a group of people in yellow and white and are in front of a crowd crowd . <eos> <eos> <eos> <eos> <eos> <eos> <unk> a mother and child child is the beach in the in the background . <eos> <eos> . <eos> <eos> <eos> <eos> <eos> <eos> <unk> a man is standing next a a of a . <eos> <eos> <eos> <eos> <eos> <eos> <eos> <eos> <eos> <eos> <eos> <eos> <eos> <unk> the crowd of people <unk> they <unk> the the the <unk> . <eos> <eos> <eos> <eos> <eos> <eos> <eos> <eos> <eos> <eos> <eos> <unk> a group of people are in in the middle in <eos> <eos> . <eos> <eos> <eos> <eos> <eos> <eos> <eos> <eos> <eos> <eos> <unk> a woman with a hair sitting sitting at a table table and a . <eos> . <eos> . <eos> <eos> . . . <unk> a girl with a hat sits on a beach while sitting on his cellphone . <eos> cellphone . <eos> cellphone <eos> <eos> <eos> <unk> a is a man wearing in a red and white hat on his head . the ground . <eos> <eos> . <eos> <eos> <unk> a man and two women are the grass . the grass . <eos> <eos> <eos> <eos> <eos> <eos> <eos> <eos> <eos> <eos> <eos> <unk> two adults and two children are down a street a street . <eos> <eos> <eos> <eos> <eos> <eos> <eos> <eos> <eos> <eos> <eos> <unk> the man in a dark suit is a a a . <eos> . <eos> <eos> . <eos> <eos> <eos> <eos> <eos> <eos> <eos> <unk> a man with a red helmet is in the . <eos> . . <eos> <eos> <eos> <eos> <eos> <eos> <eos> <eos> <eos> <eos> <unk> military of a <unk> full of on a . . <eos> <eos> <eos> <eos> <eos> <eos> <eos> <eos> <eos> <eos> <eos> <eos> <eos> <unk> a woman is talking a a in a a . . <eos> <eos> <eos> <eos> <eos> <eos> <eos> <eos> <eos> <eos> <eos> <eos> <unk> a group of snowboarders jumping over a a . a . . <eos> <eos> <eos> <eos> <eos> <eos> <eos> <eos> <eos> <eos> <eos> <unk> mother daughter and daughter walking down a street . . <eos> <eos> <eos> <eos> <eos> <eos> <eos> <eos> <eos> <eos> <eos> <eos> <eos> <unk> a baseball player is the is a ball ball a ball . <eos> <eos> <eos> <eos> <eos> <eos> <eos> <eos> <eos> <eos> <eos> <unk> a blond woman with a purple top and and colored outfit and <eos> . <eos> . <eos> <eos> <eos> . <eos> <eos> <eos> <unk> a man in a red vest suit is through through surfboard . a snowy hill <eos> <eos> <eos> <eos> <eos> <eos> <eos> <eos> <unk> a man in a black shirt is holding a . <eos> <eos> <eos> <eos> <eos> <eos> <eos> <eos> <eos> <eos> <eos> <eos> <eos> <unk> the young man is holding a drink while his his cellphone . <eos> <eos> <eos> <eos> <eos> <eos> <eos> <eos> <eos> <eos> <eos> <unk> a man dressed in man is to the camera woman of a cellphone . <eos> hand . . <eos> <eos> . <eos> <eos> <unk> an older man is up . <eos> . <eos> <eos> <eos> <eos> <eos> <eos> <eos> <eos> <eos> <eos> <eos> <eos> <eos> <eos> <eos> <unk> a girl in a colorful outfit outfit is a a fence . . <eos> <eos> . <eos> <eos> <eos> <eos> <eos> <eos> <eos> <unk> a man with a microphone and a hat is people for people . <eos> . <eos> <eos> . <eos> <eos> . <eos> <eos> <unk> two construction workers are a a . . <eos> <eos> <eos> <eos> <eos> <eos> <eos> <eos> <eos> <eos> <eos> <eos> <eos> <eos> <eos> <unk> three people on stage stage stage singing and playing <eos> <eos> . . <eos> <eos> . <eos> <eos> <eos> . <eos> <eos> <eos> <unk> a woman is climbing a rock rock . <eos> <eos> <eos> <eos> <eos> <eos> <eos> <eos> <eos> <eos> <eos> <eos> <eos> <eos> <eos> <unk> a person is on a a <unk> and a climbs a large . <eos> <eos> <eos> <eos> <eos> <eos> <eos> <eos> <eos> <eos> <unk> a <unk> woman women women are together . <eos> . . <eos> <eos> <eos> <eos> <eos> <eos> <eos> <eos> <eos> <eos> <eos> <eos> <unk> several people are around be around instruments . <eos> . . <eos> <eos> <eos> <eos> <eos> <eos> <eos> <eos> <eos> <eos> <eos> <eos> <unk> a child wearing a a a is sitting on on a red . <eos> <eos> <eos> <eos> <eos> <eos> <eos> <eos> <eos> <eos> <unk> two young children playing playing with a . . <eos> <eos> <eos> <eos> <eos> <eos> <eos> <eos> <eos> <eos> <eos> <eos> <eos> <eos> <unk> a group of people sitting on a couch with holding holding a a couch . <eos> <eos> . <eos> <eos> <eos> <eos> <eos> <unk> a in a <unk> on a the two . <eos> <eos> <eos> <eos> <eos> <eos> <eos> <eos> <eos> <eos> <eos> <eos> <eos> <eos> <unk> a man is down a a in a mountain . <eos> <eos> <eos> <eos> <eos> <eos> <eos> <eos> <eos> <eos> <eos> <eos> <eos> <unk> a man in a suit is his food with his . . <eos> <eos> <eos> <eos> <eos> <eos> <eos> <eos> <eos> <eos> <eos> <unk> a young asian man in a a a and and and and a and . . <eos> <eos> <eos> . <eos> <eos> <eos> <unk> construction workers working on a street . <eos> <eos> <eos> <eos> <eos> <eos> <eos> <eos> <eos> <eos> <eos> <eos> <eos> <eos> <eos> <eos> <unk> people walking on a street street street street street in a and a . . <eos> <eos> . <eos> <eos> <eos> <eos> <eos> <unk> a little girl sitting on a chair and a a a green green . <eos> <eos> <eos> <eos> <eos> <eos> <eos> <eos> <eos> <unk> a <unk> and a a is in front of people . <eos> <eos> <eos> <eos> <eos> <eos> <eos> <eos> <eos> <eos> <eos> <eos> <unk> a woman in pink dress walking down a street . <eos> <eos> <eos> <eos> <eos> <eos> <eos> <eos> <eos> <eos> <eos> <eos> <eos> <unk> two older people are <unk> at a picture of , in a <unk> of <unk> . <eos> . <eos> <eos> . . . <unk> a boy in a green green stands next to a a a a subway . . <eos> <eos> <eos> <eos> <eos> <eos> <eos> <unk> a group of people are eating together . <eos> . . <eos> <eos> <eos> <eos> <eos> <eos> <eos> <eos> <eos> <eos> <eos> <eos> <unk> a man in a white shirt is <unk> <unk> a <unk> . <unk> . <eos> . <eos> <eos> . . <eos> <eos> <eos> <unk> people surfers on a boat on the beach on <eos> the beach . <eos> <eos> . <eos> <eos> <eos> . <eos> <eos> <eos> <unk> a <unk> is walking <unk> is on a building of building . . <eos> <eos> <eos> <eos> <eos> <eos> <eos> <eos> <eos> <eos> <unk> a girl with brown hair with hair with a a blue and with a a . <eos> <eos> <eos> <eos> <eos> <eos> <eos> <unk> a man with a is standing in front of a window . <eos> <eos> <eos> <eos> <eos> <eos> <eos> <eos> <eos> <eos> <eos> <unk> two men working together in the in the snow . <eos> <eos> <eos> <eos> <eos> <eos> <eos> <eos> <eos> <eos> <eos> <eos> <eos> <unk> a boy in a red red shirt stands in the camera with the street . street . <eos> <eos> <eos> <eos> <eos> <eos> <unk> an old man stands in front of a building building . <eos> <eos> <eos> <eos> <eos> <eos> <eos> <eos> <eos> <eos> <eos> <eos> <unk> workers are a building a building . <eos> . . <eos> <eos> <eos> <eos> <eos> <eos> <eos> <eos> <eos> <eos> <eos> <eos> <eos> <unk> several people are playing playing a <unk> on a a . . <eos> <eos> <eos> <eos> <eos> <eos> <eos> <eos> <eos> <eos> <eos> <unk> two old men are in a table in a restaurant . <eos> <eos> <eos> <eos> <eos> <eos> <eos> <eos> <eos> <eos> <eos> <eos> <unk> an asian man is a a up a a . <eos> <eos> . <eos> <eos> <eos> <eos> <eos> <eos> <eos> <eos> <eos> <eos> <unk> a boy tries to a girl girl girl in in a a a . . <eos> <eos> <eos> <eos> <eos> <eos> <eos> <eos> <unk> a man is a a a a a a . . . . <eos> <eos> <eos> <eos> <eos> <eos> <eos> <eos> <eos> <eos> <unk> a baby is looking his <unk> . <eos> . . <eos> <eos> <eos> <eos> <eos> <eos> <eos> <eos> <eos> <eos> <eos> <eos> <eos> <unk> women standing next to to a table . <eos> <eos> <eos> <eos> <eos> <eos> <eos> <eos> <eos> <eos> <eos> <eos> <eos> <eos> <eos> <unk> women are trying to <unk> <unk> . <eos> . . <eos> <eos> <eos> <eos> <eos> <eos> <eos> <eos> <eos> <eos> <eos> <eos> <eos> <unk> a street is a a red in a blue shirt in a the air . <eos> <eos> . <eos> <eos> <eos> <eos> <eos> <unk> a police officer is standing a people is to <unk> in a a a a a . . <eos> <eos> <eos> <eos> <eos> <unk> a woman wearing a dark - and sunglasses and and walking the the street with a . . <eos> <eos> <eos> . <eos> <unk> a man with a hat hat is reading a a a book book . <eos> <eos> . <eos> <eos> <eos> <eos> <eos> <eos> <unk> a little girl in a pink shirt is sitting to a red . <eos> <eos> . <eos> <eos> <eos> <eos> <eos> <eos> <eos> <unk> a male person in head is standing on the picture of a picture of a . <eos> . <eos> <eos> . <eos> <eos> <unk> a boy stands on of in the <unk> and the to . . <eos> <eos> <eos> <eos> <eos> <eos> <eos> <eos> <eos> <eos> <unk> a player is a a on a a race . <eos> <eos> . <eos> <eos> . <eos> <eos> <eos> . <eos> <eos> <eos> <unk> a group of people are a and a a of a of . <eos> <eos> <eos> <eos> <eos> <eos> <eos> <eos> <eos> <eos> <unk> a woman in a a suit on a bench bench <eos> bench bench . <eos> bench . <eos> bench bench <eos> <eos> <eos> <unk> a man is in a a in a . . . <eos> <eos> <eos> <eos> <eos> <eos> <eos> <eos> <eos> <eos> <eos> <eos> <unk> a girl in a is in of a building building . <eos> <eos> <eos> <eos> <eos> <eos> <eos> <eos> <eos> <eos> <eos> <eos> <unk> a bearded man plays a while a man while man man sitting on a guitar on a guitar . <eos> guitar . <eos> <unk> many people walking through through a large large area . . <eos> . <eos> <eos> <eos> <eos> . <eos> . <eos> . . <unk> a man is cooking something on a <unk> . . <eos> <eos> <eos> <eos> <eos> <eos> <eos> <eos> <eos> <eos> <eos> <eos> <eos> <unk> the <unk> is riding motorcycle is riding the dirt . . <eos> <eos> <eos> <eos> <eos> <eos> <eos> <eos> <eos> <eos> <eos> <eos> <unk> three teenagers are on a on a street while one of a camera . <eos> . <eos> camera . <eos> <eos> . <eos> <unk> a woman is walking on the beach next to a bike . <eos> <eos> <eos> <eos> <eos> <eos> <eos> <eos> <eos> <eos> <eos> <unk> an older man walks past a building with graffiti graffiti . <eos> <eos> <eos> <eos> <eos> <eos> <eos> <eos> <eos> <eos> <eos> <eos> <unk> someone in green shirt shirt is through a small dog . <eos> <eos> <eos> <eos> <eos> <eos> <eos> <eos> <eos> <eos> <eos> <eos> <unk> many people are sitting sitting sitting in a restaurant while a table are at a table . <eos> <eos> <eos> <eos> <eos> <eos> <unk> a <unk> <unk> <unk> <unk> <unk> man is a a a man man . <eos> <eos> <eos> <eos> <eos> <eos> <eos> <eos> <eos> <unk> a smiling little girl is girl girl in a in a . adult . <eos> <eos> <eos> <eos> <eos> <eos> <eos> <eos> <eos> <unk> a group of friends stand in front of a <unk> are looking for a picture . <eos> <eos> <eos> <eos> <eos> <eos> <eos> <unk> a black dog shakes shaking through over the air of <eos> <eos> <eos> <eos> <eos> <eos> <eos> <eos> <eos> <eos> <eos> <eos> <eos> <unk> a is a girl girl in a blue hat is is a a red . . <eos> hand . <eos> <eos> <eos> <eos> <unk> a woman is sitting sitting a to a a in a microphone . <eos> <eos> <eos> <eos> <eos> <eos> <eos> <eos> <eos> <eos>\n"
          ],
          "name": "stdout"
        }
      ]
    },
    {
      "cell_type": "markdown",
      "metadata": {
        "id": "rZWDKoAo5s1e",
        "colab_type": "text"
      },
      "source": [
        "Let's see if we can create examples from scratch. We gotta turn the sentence into dataset. And use the actual translation as both a comparison and to produce a suitable target tensor. Observation: target string of (source words) - 1 gives an optimal # of words in result\n"
      ]
    },
    {
      "cell_type": "code",
      "metadata": {
        "id": "31VGORxD6XS3",
        "colab_type": "code",
        "colab": {}
      },
      "source": [
        "# Creating examples, turning sentence into the dataset\n",
        "\n",
        "from torchtext.data import Example\n",
        "from torchtext.data import Dataset\n",
        "\n",
        "src_text='zwei junge weiße männer sind i m freien in der nähe vieler büsche ';\n",
        "trg_text='the the the the the the the the the the the the the the the the the';\n",
        "\n",
        "# Target tensor is just a string of words, instead of just a [0]\n",
        "\n",
        "src_data = Example.fromlist(data=[src_text], fields=[('src', SRC)])\n",
        "trg_data = Example.fromlist(data=[trg_text], fields=[('trg', TRG)])\n",
        "\n",
        "src_dataset = Dataset([src_data], fields=[('src', SRC)])\n",
        "trg_dataset = Dataset([trg_data], fields=[('trg', TRG)])"
      ],
      "execution_count": 0,
      "outputs": []
    },
    {
      "cell_type": "markdown",
      "metadata": {
        "id": "JL01mjft646u",
        "colab_type": "text"
      },
      "source": [
        "And make a bucket. Then we'll be able to view the vector form of this sentence that we created from scratch:"
      ]
    },
    {
      "cell_type": "code",
      "metadata": {
        "id": "ecuKA6fi0_Js",
        "colab_type": "code",
        "colab": {}
      },
      "source": [
        "# Making a bucket with BucketIterator to view vector form of sentence\n",
        "\n",
        "\n",
        "from torchtext.data import BucketIterator\n",
        "\n",
        "src_dataset_iter = BucketIterator(dataset=src_dataset, batch_size=1)\n",
        "src_tensor=next(enumerate(src_dataset_iter))[1].src.to(device)\n",
        "# print('src tensor:',src_tensor)\n",
        "\n",
        "trg_dataset_iter = BucketIterator(dataset=trg_dataset, batch_size=1)\n",
        "trg_tensor=next(enumerate(trg_dataset_iter))[1].trg.to(device)\n",
        "# print('trg tensor:',trg_tensor)\n"
      ],
      "execution_count": 0,
      "outputs": []
    },
    {
      "cell_type": "markdown",
      "metadata": {
        "id": "wGzFptMG6W12",
        "colab_type": "text"
      },
      "source": [
        "Then, we could apply the model to predict the english translation vector"
      ]
    },
    {
      "cell_type": "code",
      "metadata": {
        "id": "8dcMFAhL00F3",
        "colab_type": "code",
        "outputId": "08ba4131-788e-45d9-afa5-7940f970b62c",
        "colab": {
          "base_uri": "https://localhost:8080/",
          "height": 69
        }
      },
      "source": [
        "# Puttting both tensors through the model\n",
        "# Getting an actual sentence output\n",
        "check_model(src_tensor, trg_tensor)"
      ],
      "execution_count": 0,
      "outputs": [
        {
          "output_type": "stream",
          "text": [
            "src: <sos> zwei junge weiße männer sind i m freien in der nähe vieler büsche <eos>\n",
            "trg: <sos> the the the the the the the the the the the the the the the the the <eos>\n",
            "res: <unk> two young two white men are outside outside outside outside . <eos> . <eos> . <eos> . .\n"
          ],
          "name": "stdout"
        }
      ]
    },
    {
      "cell_type": "code",
      "metadata": {
        "id": "ThodDAM7ZYps",
        "colab_type": "code",
        "colab": {}
      },
      "source": [
        ""
      ],
      "execution_count": 0,
      "outputs": []
    }
  ]
}